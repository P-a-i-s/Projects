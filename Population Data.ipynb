{
 "cells": [
  {
   "cell_type": "code",
   "execution_count": 10,
   "metadata": {
    "collapsed": false
   },
   "outputs": [],
   "source": [
    "import pandas as pd\n",
    "import numpy as np\n",
    "import matplotlib.pyplot as plt\n",
    "%matplotlib inline\n",
    "# #Take top 6 populated states\n",
    "# show in histogram \n",
    "# compare them year after year. \n",
    "# Plot a graph on population growth as to which state is growing in population fastest. "
   ]
  },
  {
   "cell_type": "code",
   "execution_count": 11,
   "metadata": {
    "collapsed": false
   },
   "outputs": [],
   "source": [
    "popl_2016 = pd.read_csv('/Users/nish/pais-datascience/data/Population data/Population_age_2016.csv')\n",
    "popl_2015 = pd.read_csv('/Users/nish/pais-datascience/data/Population data/Population_age_2015.csv')\n",
    "popl_2014 = pd.read_csv('/Users/nish/pais-datascience/data/Population data/Population_age_2014.csv')\n",
    "popl_2013 = pd.read_csv('/Users/nish/pais-datascience/data/Population data/Population_age_2013.csv')\n",
    "popl_2012 = pd.read_csv('/Users/nish/pais-datascience/data/Population data/Population_age_2012.csv')\n",
    "popl_2011 = pd.read_csv('/Users/nish/pais-datascience/data/Population data/Population_age_2011.csv')"
   ]
  },
  {
   "cell_type": "code",
   "execution_count": 12,
   "metadata": {
    "collapsed": false
   },
   "outputs": [
    {
     "data": {
      "text/html": [
       "<div>\n",
       "<table border=\"1\" class=\"dataframe\">\n",
       "  <thead>\n",
       "    <tr style=\"text-align: right;\">\n",
       "      <th></th>\n",
       "      <th>0</th>\n",
       "      <th>1</th>\n",
       "      <th>2</th>\n",
       "      <th>3</th>\n",
       "      <th>4</th>\n",
       "      <th>5</th>\n",
       "    </tr>\n",
       "  </thead>\n",
       "  <tbody>\n",
       "    <tr>\n",
       "      <th>Gender</th>\n",
       "      <td>Male</td>\n",
       "      <td>Female</td>\n",
       "      <td>Total</td>\n",
       "      <td>Male</td>\n",
       "      <td>Female</td>\n",
       "      <td>Total</td>\n",
       "    </tr>\n",
       "    <tr>\n",
       "      <th>Age Group</th>\n",
       "      <td>6-10 Years</td>\n",
       "      <td>6-10 Years</td>\n",
       "      <td>6-10 Years</td>\n",
       "      <td>11-13 Years</td>\n",
       "      <td>11-13 Years</td>\n",
       "      <td>11-13 Years</td>\n",
       "    </tr>\n",
       "    <tr>\n",
       "      <th>Uttar Pradesh</th>\n",
       "      <td>13832396</td>\n",
       "      <td>12312506</td>\n",
       "      <td>26144902</td>\n",
       "      <td>7687786</td>\n",
       "      <td>6864113</td>\n",
       "      <td>14551899</td>\n",
       "    </tr>\n",
       "    <tr>\n",
       "      <th>Bihar</th>\n",
       "      <td>8218461</td>\n",
       "      <td>7594381</td>\n",
       "      <td>15812842</td>\n",
       "      <td>4074766</td>\n",
       "      <td>3684181</td>\n",
       "      <td>7758947</td>\n",
       "    </tr>\n",
       "    <tr>\n",
       "      <th>Maharastra</th>\n",
       "      <td>5339558</td>\n",
       "      <td>4788053</td>\n",
       "      <td>10127611</td>\n",
       "      <td>3339709</td>\n",
       "      <td>2997967</td>\n",
       "      <td>6337676</td>\n",
       "    </tr>\n",
       "  </tbody>\n",
       "</table>\n",
       "</div>"
      ],
      "text/plain": [
       "                        0           1           2            3            4  \\\n",
       "Gender               Male      Female       Total         Male       Female   \n",
       "Age Group      6-10 Years  6-10 Years  6-10 Years  11-13 Years  11-13 Years   \n",
       "Uttar Pradesh    13832396    12312506    26144902      7687786      6864113   \n",
       "Bihar             8218461     7594381    15812842      4074766      3684181   \n",
       "Maharastra        5339558     4788053    10127611      3339709      2997967   \n",
       "\n",
       "                         5  \n",
       "Gender               Total  \n",
       "Age Group      11-13 Years  \n",
       "Uttar Pradesh     14551899  \n",
       "Bihar              7758947  \n",
       "Maharastra         6337676  "
      ]
     },
     "execution_count": 12,
     "metadata": {},
     "output_type": "execute_result"
    }
   ],
   "source": [
    "a=popl_2011.T\n",
    "a.sort_values(5,ascending=False).head()\n",
    "#2016: Highest populated states = UP, Bihar, Maharashtra, MP, WB and Rajastan when comparing both age groups\n",
    "#2015: same list for both age groups\n",
    "#2014: same list for both age groups\n",
    "#2013: same list for both age groups\n",
    "#2012: Female data is missing for 11-13 Age group, hence we will only use 6-10 and sort. same list. \n",
    "#2011: same list for both age groups. \n",
    "\n",
    "#All through we have seen that these are the top 6 states for highest population with Rajastan mostly appearing 6th...\n",
    "#...between two age groups i.e. 6-10 years and 11-13 years. "
   ]
  },
  {
   "cell_type": "code",
   "execution_count": 13,
   "metadata": {
    "collapsed": false
   },
   "outputs": [
    {
     "ename": "NameError",
     "evalue": "name 'x_2016666666' is not defined",
     "output_type": "error",
     "traceback": [
      "\u001b[0;31m---------------------------------------------------------------------------\u001b[0m",
      "\u001b[0;31mNameError\u001b[0m                                 Traceback (most recent call last)",
      "\u001b[0;32m<ipython-input-13-727f021e1882>\u001b[0m in \u001b[0;36m<module>\u001b[0;34m()\u001b[0m\n\u001b[0;32m----> 1\u001b[0;31m \u001b[0mx_2016666666\u001b[0m\u001b[0;34m.\u001b[0m\u001b[0mto_\u001b[0m\u001b[0;34m\u001b[0m\u001b[0m\n\u001b[0m",
      "\u001b[0;31mNameError\u001b[0m: name 'x_2016666666' is not defined"
     ]
    }
   ],
   "source": [
    "x_2016666666.to_"
   ]
  },
  {
   "cell_type": "code",
   "execution_count": null,
   "metadata": {
    "collapsed": false
   },
   "outputs": [],
   "source": [
    "# Data gathering...\n",
    "\n",
    "\n",
    "hist_2016 = popl_2016.iloc[5]\n",
    "x_2016=pd.DataFrame(hist_2016)\n",
    "x_20166=x_2016.T\n",
    "x_201666=x_20166.set_index('Age Group')\n",
    "x_2016666=x_201666.T\n",
    "x_20166666=x_2016666.drop('Gender')\n",
    "x_201666666=x_20166666.sort_values('11-13 Years',ascending=False)\n",
    "x_2016666666=x_201666666.iloc[:6]\n",
    "x_2016_index=x_2016666666.index\n",
    "x_2016_data = x_2016666666.to_records(index=False).tolist()  \n",
    "\n",
    "hist_2016a = popl_2016.iloc[2]\n",
    "x_2016a=pd.DataFrame(hist_2016a)\n",
    "x_20166a=x_2016a.T\n",
    "x_201666a=x_20166a.set_index('Age Group')\n",
    "x_2016666a=x_201666a.T\n",
    "x_20166666a=x_2016666a.drop('Gender')\n",
    "x_201666666a=x_20166666a.sort_values('6-10 Years',ascending=False)\n",
    "x_2016666666a=x_201666666a.iloc[:6]\n",
    "x_2016a_index=x_2016666666a.index\n",
    "x_2016a_data = x_2016666666a.to_records(index=False).tolist()  \n",
    "\n",
    "\n",
    "hist_2015 = popl_2015.iloc[5]\n",
    "x_2015=pd.DataFrame(hist_2015)\n",
    "x_20155=x_2015.T\n",
    "x_201555=x_20155.set_index('Age Group')\n",
    "x_2015555=x_201555.T\n",
    "x_20155555=x_2015555.drop('Gender')\n",
    "x_201555555=x_20155555.sort_values('11-13 Years',ascending=False)\n",
    "x_2015555555=x_201555555.iloc[:6]\n",
    "x_2015_index=x_2015555555.index\n",
    "x_2015_data = x_2015555555.to_records(index=False).tolist()  \n",
    "\n",
    "\n",
    "hist_2015a = popl_2015.iloc[2]\n",
    "x_2015a=pd.DataFrame(hist_2015a)\n",
    "x_20155a=x_2015a.T\n",
    "x_201555a=x_20155a.set_index('Age Group')\n",
    "x_2015555a=x_201555a.T\n",
    "x_20155555a=x_2015555a.drop('Gender')\n",
    "x_201555555a=x_20155555a.sort_values('6-10 Years',ascending=False)\n",
    "x_2015555555a=x_201555555a.iloc[:6]\n",
    "x_2015a_index=x_2015555555a.index\n",
    "x_2015a_data = x_2015555555a.to_records(index=False).tolist()  \n",
    "\n",
    "\n",
    "hist_2014 = popl_2014.iloc[2]\n",
    "x_2014=pd.DataFrame(hist_2014)\n",
    "x_20144=x_2014.T\n",
    "x_201444=x_20144.set_index('Age Group')\n",
    "x_2014444=x_201444.T\n",
    "x_20144444=x_2014444.drop('Gender')\n",
    "x_201444444=x_20144444.sort_values('6-10 Years',ascending=False)\n",
    "x_2014444444=x_201444444.iloc[:6]\n",
    "x_2014_index=x_2014444444.index\n",
    "x_2014_data = x_2014444444.to_records(index=False).tolist()  \n",
    "\n",
    "hist_2014a = popl_2014.iloc[5]\n",
    "x_2014a=pd.DataFrame(hist_2014a)\n",
    "x_20144a=x_2014a.T\n",
    "x_201444a=x_20144a.set_index('Age Group')\n",
    "x_2014444a=x_201444a.T\n",
    "x_20144444a=x_2014444a.drop('Gender')\n",
    "x_201444444a=x_20144444a.sort_values('11-13 Years',ascending=False)\n",
    "x_2014444444a=x_201444444a.iloc[:6]\n",
    "x_2014a_index=x_2014444444a.index\n",
    "x_2014a_data = x_2014444444a.to_records(index=False).tolist()  \n",
    "\n",
    "hist_2013 = popl_2013.iloc[2]\n",
    "x_2013=pd.DataFrame(hist_2013)\n",
    "x_20133=x_2013.T\n",
    "x_201333=x_20133.set_index('Age Group')\n",
    "x_2013333=x_201333.T\n",
    "x_20133333=x_2013333.drop('Gender')\n",
    "x_201333333=x_20133333.sort_values('6-10 Years',ascending=False)\n",
    "x_2013333333=x_201333333.iloc[:6]\n",
    "x_2013_index=x_2013333333.index\n",
    "x_2013_data = x_2013333333.to_records(index=False).tolist()  \n",
    "\n",
    "hist_2013a = popl_2013.iloc[5]\n",
    "x_2013a=pd.DataFrame(hist_2013a)\n",
    "x_20133a=x_2013a.T\n",
    "x_201333a=x_20133a.set_index('Age Group')\n",
    "x_2013333a=x_201333a.T\n",
    "x_20133333a=x_2013333a.drop('Gender')\n",
    "x_201333333a=x_20133333a.sort_values('11-13 Years',ascending=False)\n",
    "x_2013333333a=x_201333333a.iloc[:6]\n",
    "x_2013a_index=x_2013333333a.index\n",
    "x_2013a_data = x_2013333333a.to_records(index=False).tolist()  \n",
    "\n",
    "##2012: Female data is missing for 11-13 Age group, hence we will only use 6-10 and sort. \n",
    "hist_2012 = popl_2012.iloc[2]\n",
    "x_2012=pd.DataFrame(hist_2012)\n",
    "x_20122=x_2012.T\n",
    "x_201222=x_20122.set_index('Age Group')\n",
    "x_2012222=x_201222.T\n",
    "x_20122222=x_2012222.drop('Gender')\n",
    "x_201222222=x_20122222.sort_values('6-10 Years',ascending=False)\n",
    "x_2012222222=x_201222222.iloc[:6]\n",
    "x_2012_index=x_2012222222.index\n",
    "x_2012_data = x_2012222222.to_records(index=False).tolist()  \n",
    "\n",
    "hist_2011 = popl_2011.iloc[2]\n",
    "x_2011=pd.DataFrame(hist_2011)\n",
    "x_20111=x_2011.T\n",
    "x_201111=x_20111.set_index('Age Group')\n",
    "x_2011111=x_201111.T\n",
    "x_20111111=x_2011111.drop('Gender')\n",
    "x_201111111=x_20111111.sort_values('6-10 Years',ascending=False)\n",
    "x_2011111111=x_201111111.iloc[:6]\n",
    "x_2011_index=x_2011111111.index\n",
    "x_2011_data = x_2011111111.to_records(index=False).tolist()  \n",
    "\n",
    "\n",
    "hist_2011a = popl_2011.iloc[5]\n",
    "x_2011a=pd.DataFrame(hist_2011a)\n",
    "x_20111a=x_2011a.T\n",
    "x_201111a=x_20111a.set_index('Age Group')\n",
    "x_2011111a=x_201111a.T\n",
    "x_20111111a=x_2011111a.drop('Gender')\n",
    "x_201111111a=x_20111111a.sort_values('11-13 Years',ascending=False)\n",
    "x_2011111111a=x_201111111a.iloc[:6]\n",
    "x_2011a_index=x_2011111111a.index\n",
    "x_2011a_data = x_2011111111a.to_records(index=False).tolist()  "
   ]
  },
  {
   "cell_type": "code",
   "execution_count": null,
   "metadata": {
    "collapsed": false
   },
   "outputs": [],
   "source": [
    "my_xticks = yy\n",
    "my_yticks = c1\n",
    "plt.xticks(ind,my_xticks)\n",
    "\n",
    "#plt.figure(figsize=(12,10))\n",
    "plt.plot(ind,x_2016a_data, label='Age 6-10 years\\n2016',color=\"blue\")\n",
    "plt.plot(ind,x_2015a_data, label='Age 6-10 years\\n2015',color=\"0.75\")\n",
    "plt.plot(ind,x_2014_data, label='Age 6-10 years\\n2014',color=\"black\")\n",
    "plt.plot(ind,x_2013_data, label='Age 6-10 years\\n2013',color=\"cyan\")\n",
    "plt.plot(ind,x_2012_data, label='Age 6-10 years\\n2012',color='green')\n",
    "plt.plot(ind,x_2011_data, label='Age 6-10 years\\n2011',color=\"red\")\n",
    "\n",
    "plt.xlabel('Most Populated States in India')\n",
    "plt.xticks(rotation=90)\n",
    "plt.ylabel('Population in Million')\n",
    "plt.legend(loc='best', shadow=True)\n",
    "plt.title('Total Male & Female population from 2011-2016\\nAge Groups: 6-10 years')\n",
    "plt.show()\n",
    "\n",
    "##2012: Female data is missing for 11-13 Age group, hence we will only use 6-10 and sort. "
   ]
  },
  {
   "cell_type": "code",
   "execution_count": null,
   "metadata": {
    "collapsed": false
   },
   "outputs": [],
   "source": [
    "my_xticks = yy\n",
    "my_yticks = c1\n",
    "plt.xticks(ind,u)\n",
    "\n",
    "plt.plot(ind,x_2011a_data, label='Age 11-13 years\\n2011',color=\"blue\")\n",
    "plt.plot(ind,x_2013a_data, label='Age 11-13 years\\n2013',color='0.75')\n",
    "plt.plot(ind,x_2014a_data, label='Age 11-13 years\\n2014',color=\"black\")\n",
    "plt.plot(ind,x_2015_data, label='Age 11-13 years\\n2015',color=\"red\")\n",
    "plt.plot(ind,x_2016_data, label='Age 11-13 years\\n2016',color=\"green\")\n",
    "\n",
    "plt.xlabel('Most Populated States in India v Least Populated')\n",
    "plt.xticks(rotation=90)\n",
    "plt.ylabel('Population in Million')\n",
    "plt.legend(loc='best', shadow=True)\n",
    "plt.title('Total Male & Female population from 2011-2016\\nAge Groups: 11-13 years ')\n",
    "plt.show()\n"
   ]
  },
  {
   "cell_type": "markdown",
   "metadata": {},
   "source": [
    "# Comparing with lowest states\n"
   ]
  },
  {
   "cell_type": "code",
   "execution_count": null,
   "metadata": {
    "collapsed": false
   },
   "outputs": [],
   "source": [
    "hist_2011L = popl_2011.iloc[2]\n",
    "x_2011L=pd.DataFrame(hist_2011L)\n",
    "x_20111L=x_2011L.T\n",
    "x_201111L=x_20111L.set_index('Age Group')\n",
    "x_2011111L=x_201111L.T\n",
    "x_20111111L=x_2011111L.drop('Gender')\n",
    "x_201111111L=x_20111111L.sort_values('6-10 Years',ascending=True)\n",
    "x_2011111111L=x_201111111L.iloc[:11]\n",
    "x_2011L_index=x_2011111111L.index\n",
    "x_2011L_data = x_2011111111L.to_records(index=False).tolist() \n",
    "ind1=arange(len(x_2011L_index))\n",
    "yy1=x_2011L_index\n",
    "c11=x_2011L_data\n",
    "\n",
    "u=yy.append(yy1)\n",
    "c11"
   ]
  },
  {
   "cell_type": "code",
   "execution_count": null,
   "metadata": {
    "collapsed": false
   },
   "outputs": [],
   "source": [
    "hist_2011ab = popl_2011.iloc[2]\n",
    "hist_2011ab = pd.DataFrame()\n",
    "\n",
    "x_2011a=pd.DataFrame(hist_2013a)\n",
    "x_20111a=x_2011a.T\n",
    "x_201111a=x_20111a.set_index('Age Group')\n",
    "x_2011111a=x_201111a.T\n",
    "x_20111111a=x_2011111a.drop('Gender')\n",
    "x_201111111a=x_20111111a.sort_values('11-13 Years',ascending=False)\n",
    "x_2011111111a=x_201111111a.iloc[:6]\n",
    "x_2011a_index=x_2011111111a.index\n",
    "x_2011a_data = x_2011111111a.to_records(index=False).tolist()  \n",
    "\n",
    "\n"
   ]
  },
  {
   "cell_type": "code",
   "execution_count": null,
   "metadata": {
    "collapsed": false
   },
   "outputs": [],
   "source": [
    "my_xticks = yy1\n",
    "my_yticks = c1\n",
    "plt.xticks(ind1,my_xticks)\n",
    "#plt.yticks(ind1,my_yticks)\n",
    "\n",
    "plt.subplot(2,1,1)\n",
    "plt.plot(ind1,x_2011L_data, label='Age 6-10 years\\n2011',color=\"black\")\n",
    "\n",
    "plt.subplot(2,1,2)\n",
    "plt.plot(ind,x_2011a_data, label='Age 11-13 years\\n2011',color=\"blue\")\n",
    "\n",
    "plt.xlabel('Most Populated States in India')\n",
    "plt.xticks(rotation=90)\n",
    "plt.ylabel('Population in Million')\n",
    "plt.legend(loc='best', shadow=True)\n",
    "plt.title('Total population for 2011\\nAge Groups: 6-10 years ')\n",
    "plt.tight_layout()\n",
    "plt.show()"
   ]
  },
  {
   "cell_type": "markdown",
   "metadata": {},
   "source": [
    "# x_2011111111L"
   ]
  },
  {
   "cell_type": "code",
   "execution_count": null,
   "metadata": {
    "collapsed": false
   },
   "outputs": [],
   "source": [
    "# my_xticks = yy\n",
    "# my_yticks = c1\n",
    "# plt.xticks(ind,my_xticks)\n",
    "# plt.plot(ind,x_2011L_data, label='Male 6-10 years\\n2016',color=\"blue\")\n",
    "# plt.plot(ind,x_2016L_index, label='Female 6-10 years\\n2016',color='orange')\n",
    "# plt.xlabel('Most Populated States in India')\n",
    "# plt.xticks(rotation=90)\n",
    "# plt.ylabel('Population in Million')\n",
    "# plt.legend(loc='best', shadow=True)\n",
    "# plt.title('Male & Female population from 2011-2016\\nAge Groups: 6-10 years ')\n",
    "# plt.show()"
   ]
  },
  {
   "cell_type": "markdown",
   "metadata": {},
   "source": [
    "## Population by sq kms"
   ]
  },
  {
   "cell_type": "code",
   "execution_count": null,
   "metadata": {
    "collapsed": false
   },
   "outputs": [],
   "source": [
    "import pandas as pd\n",
    "sq_kms = pd.read_csv('/Users/nish/pais-datascience/data/Population data/Popl_sq_km.csv')\n",
    "sq_km=sq_kms.set_index('States')\n",
    "indx = sq_km.index\n",
    "indx\n",
    "sq_km"
   ]
  },
  {
   "cell_type": "code",
   "execution_count": null,
   "metadata": {
    "collapsed": false
   },
   "outputs": [],
   "source": [
    "sq_kmss=sq_km.iloc[:]\n",
    "sq_kmss\n",
    "df1=sq_kmss.values.T.tolist()\n",
    "df1"
   ]
  },
  {
   "cell_type": "code",
   "execution_count": null,
   "metadata": {
    "collapsed": false
   },
   "outputs": [],
   "source": [
    "lat,lon = sq_kmss['Population per sq. km.'],sq_kmss['Area in sq kms']\n",
    "area, population = sq_km['Area in sq kms'], sq_km['Population per sq. km.']\n",
    "\n",
    "plt.figure(figsize=(10,6))\n",
    "plt.scatter(lon,lat, c = (sq_kmss['Total Population']), cmap = 'magma', s = area/100, alpha = 0.3)\n",
    "plt.xlabel('Population')\n",
    "\n",
    "plt.xticks()\n",
    "plt.ylabel('Area in sq kms')\n",
    "plt.colorbar(label='Total Population')\n",
    "\n",
    "plt.show()"
   ]
  },
  {
   "cell_type": "code",
   "execution_count": null,
   "metadata": {
    "collapsed": false
   },
   "outputs": [],
   "source": [
    "p=popl_2016.T[0]\n",
    "q=popl_2016.T[1]\n",
    "r=m_201666666.to_records(index=False).tolist() \n",
    "s=f_201666666.to_records(index=False).tolist() "
   ]
  },
  {
   "cell_type": "code",
   "execution_count": null,
   "metadata": {
    "collapsed": false,
    "scrolled": true
   },
   "outputs": [],
   "source": [
    "plt.axes([0.05,0.05,0.425,0.9999])"
   ]
  },
  {
   "cell_type": "code",
   "execution_count": null,
   "metadata": {
    "collapsed": true
   },
   "outputs": [],
   "source": []
  }
 ],
 "metadata": {
  "kernelspec": {
   "display_name": "Python 2",
   "language": "python",
   "name": "python2"
  },
  "language_info": {
   "codemirror_mode": {
    "name": "ipython",
    "version": 2
   },
   "file_extension": ".py",
   "mimetype": "text/x-python",
   "name": "python",
   "nbconvert_exporter": "python",
   "pygments_lexer": "ipython2",
   "version": "2.7.9"
  }
 },
 "nbformat": 4,
 "nbformat_minor": 2
}
