{
 "cells": [
  {
   "cell_type": "code",
   "execution_count": 1,
   "metadata": {},
   "outputs": [
    {
     "data": {
      "text/html": [
       "<div>\n",
       "<style>\n",
       "    .dataframe thead tr:only-child th {\n",
       "        text-align: right;\n",
       "    }\n",
       "\n",
       "    .dataframe thead th {\n",
       "        text-align: left;\n",
       "    }\n",
       "\n",
       "    .dataframe tbody tr th {\n",
       "        vertical-align: top;\n",
       "    }\n",
       "</style>\n",
       "<table border=\"1\" class=\"dataframe\">\n",
       "  <thead>\n",
       "    <tr style=\"text-align: right;\">\n",
       "      <th></th>\n",
       "      <th>ACTIVE</th>\n",
       "      <th>ACTIVE IN PROGRESS</th>\n",
       "      <th>AMALGAMATED</th>\n",
       "      <th>CONVERTED TO LLP</th>\n",
       "      <th>CONVERTED TO LLP AND DISSOLVED</th>\n",
       "      <th>DEFAULT</th>\n",
       "      <th>DISSOLVED</th>\n",
       "      <th>DORMANT</th>\n",
       "      <th>Dormant under section 455 of Companies Act, 2013</th>\n",
       "      <th>LIQUIDATED</th>\n",
       "      <th>STRIKE OFF</th>\n",
       "      <th>UNDER LIQUIDATION</th>\n",
       "      <th>UNDER PROCESS OF STRIKING OFF</th>\n",
       "    </tr>\n",
       "  </thead>\n",
       "  <tbody>\n",
       "    <tr>\n",
       "      <th>Andaman Nicobar</th>\n",
       "      <td>200</td>\n",
       "      <td>2.0</td>\n",
       "      <td>NaN</td>\n",
       "      <td>NaN</td>\n",
       "      <td>NaN</td>\n",
       "      <td>NaN</td>\n",
       "      <td>NaN</td>\n",
       "      <td>46.0</td>\n",
       "      <td>NaN</td>\n",
       "      <td>NaN</td>\n",
       "      <td>5.0</td>\n",
       "      <td>NaN</td>\n",
       "      <td>NaN</td>\n",
       "    </tr>\n",
       "    <tr>\n",
       "      <th>Andhra Pradesh</th>\n",
       "      <td>13397</td>\n",
       "      <td>7.0</td>\n",
       "      <td>72.0</td>\n",
       "      <td>4.0</td>\n",
       "      <td>8.0</td>\n",
       "      <td>NaN</td>\n",
       "      <td>NaN</td>\n",
       "      <td>5390.0</td>\n",
       "      <td>NaN</td>\n",
       "      <td>1.0</td>\n",
       "      <td>2061.0</td>\n",
       "      <td>53.0</td>\n",
       "      <td>212.0</td>\n",
       "    </tr>\n",
       "    <tr>\n",
       "      <th>Arunachal Pradesh</th>\n",
       "      <td>183</td>\n",
       "      <td>NaN</td>\n",
       "      <td>NaN</td>\n",
       "      <td>NaN</td>\n",
       "      <td>NaN</td>\n",
       "      <td>NaN</td>\n",
       "      <td>NaN</td>\n",
       "      <td>9.0</td>\n",
       "      <td>NaN</td>\n",
       "      <td>NaN</td>\n",
       "      <td>234.0</td>\n",
       "      <td>2.0</td>\n",
       "      <td>61.0</td>\n",
       "    </tr>\n",
       "    <tr>\n",
       "      <th>Assam</th>\n",
       "      <td>5106</td>\n",
       "      <td>NaN</td>\n",
       "      <td>65.0</td>\n",
       "      <td>5.0</td>\n",
       "      <td>5.0</td>\n",
       "      <td>NaN</td>\n",
       "      <td>4.0</td>\n",
       "      <td>174.0</td>\n",
       "      <td>NaN</td>\n",
       "      <td>1.0</td>\n",
       "      <td>2644.0</td>\n",
       "      <td>14.0</td>\n",
       "      <td>1245.0</td>\n",
       "    </tr>\n",
       "    <tr>\n",
       "      <th>Bihar</th>\n",
       "      <td>12653</td>\n",
       "      <td>6.0</td>\n",
       "      <td>4.0</td>\n",
       "      <td>2.0</td>\n",
       "      <td>2.0</td>\n",
       "      <td>NaN</td>\n",
       "      <td>14.0</td>\n",
       "      <td>1208.0</td>\n",
       "      <td>5.0</td>\n",
       "      <td>1.0</td>\n",
       "      <td>2410.0</td>\n",
       "      <td>41.0</td>\n",
       "      <td>3323.0</td>\n",
       "    </tr>\n",
       "  </tbody>\n",
       "</table>\n",
       "</div>"
      ],
      "text/plain": [
       "                   ACTIVE  ACTIVE IN PROGRESS  AMALGAMATED  CONVERTED TO LLP  \\\n",
       "Andaman Nicobar       200                 2.0          NaN               NaN   \n",
       "Andhra Pradesh      13397                 7.0         72.0               4.0   \n",
       "Arunachal Pradesh     183                 NaN          NaN               NaN   \n",
       "Assam                5106                 NaN         65.0               5.0   \n",
       "Bihar               12653                 6.0          4.0               2.0   \n",
       "\n",
       "                   CONVERTED TO LLP AND DISSOLVED  DEFAULT  DISSOLVED  \\\n",
       "Andaman Nicobar                               NaN      NaN        NaN   \n",
       "Andhra Pradesh                                8.0      NaN        NaN   \n",
       "Arunachal Pradesh                             NaN      NaN        NaN   \n",
       "Assam                                         5.0      NaN        4.0   \n",
       "Bihar                                         2.0      NaN       14.0   \n",
       "\n",
       "                   DORMANT  Dormant under section 455 of Companies Act, 2013  \\\n",
       "Andaman Nicobar       46.0                                               NaN   \n",
       "Andhra Pradesh      5390.0                                               NaN   \n",
       "Arunachal Pradesh      9.0                                               NaN   \n",
       "Assam                174.0                                               NaN   \n",
       "Bihar               1208.0                                               5.0   \n",
       "\n",
       "                   LIQUIDATED  STRIKE OFF  UNDER LIQUIDATION  \\\n",
       "Andaman Nicobar           NaN         5.0                NaN   \n",
       "Andhra Pradesh            1.0      2061.0               53.0   \n",
       "Arunachal Pradesh         NaN       234.0                2.0   \n",
       "Assam                     1.0      2644.0               14.0   \n",
       "Bihar                     1.0      2410.0               41.0   \n",
       "\n",
       "                   UNDER PROCESS OF STRIKING OFF  \n",
       "Andaman Nicobar                              NaN  \n",
       "Andhra Pradesh                             212.0  \n",
       "Arunachal Pradesh                           61.0  \n",
       "Assam                                     1245.0  \n",
       "Bihar                                     3323.0  "
      ]
     },
     "execution_count": 1,
     "metadata": {},
     "output_type": "execute_result"
    }
   ],
   "source": [
    "import glob\n",
    "import pandas as pd\n",
    "\n",
    "# get data file names\n",
    "path =r'/Users/apple/Downloads/Company Files/test'\n",
    "filenames = glob.glob(path + \"/*.csv\")\n",
    "\n",
    "dic = {}\n",
    "def retDataFrame(filename):   \n",
    "    tDf1 = pd.read_csv(filename, encoding='latin-1')\n",
    "    tDf2 = tDf1.groupby('COMPANY_STATUS').size()\n",
    "    tDf3 = tDf2.to_frame(name=None).T\n",
    "    tDf4 = tDf3.rename(index={0: b[0]})\n",
    "    return tDf4;\n",
    "\n",
    "for filename in filenames:\n",
    "    a=filename.split('_')\n",
    "    b=a[6].split('.')\n",
    "    dic[b[0]] = retDataFrame(filename)\n",
    "\n",
    "# Concatenate all data into one DataFrame\n",
    "mn_tble = pd.concat(dic.values())\n",
    "mn_tble.head()"
   ]
  },
  {
   "cell_type": "code",
   "execution_count": 2,
   "metadata": {
    "collapsed": true
   },
   "outputs": [],
   "source": [
    "mn_tble['RATIO_ACTIVE_DORMANT']=mn_tble['DORMANT']/mn_tble['ACTIVE']"
   ]
  },
  {
   "cell_type": "code",
   "execution_count": 3,
   "metadata": {},
   "outputs": [
    {
     "data": {
      "text/html": [
       "<div>\n",
       "<style>\n",
       "    .dataframe thead tr:only-child th {\n",
       "        text-align: right;\n",
       "    }\n",
       "\n",
       "    .dataframe thead th {\n",
       "        text-align: left;\n",
       "    }\n",
       "\n",
       "    .dataframe tbody tr th {\n",
       "        vertical-align: top;\n",
       "    }\n",
       "</style>\n",
       "<table border=\"1\" class=\"dataframe\">\n",
       "  <thead>\n",
       "    <tr style=\"text-align: right;\">\n",
       "      <th></th>\n",
       "      <th>ACTIVE</th>\n",
       "      <th>ACTIVE IN PROGRESS</th>\n",
       "      <th>AMALGAMATED</th>\n",
       "      <th>CONVERTED TO LLP</th>\n",
       "      <th>CONVERTED TO LLP AND DISSOLVED</th>\n",
       "      <th>DEFAULT</th>\n",
       "      <th>DISSOLVED</th>\n",
       "      <th>DORMANT</th>\n",
       "      <th>Dormant under section 455 of Companies Act, 2013</th>\n",
       "      <th>LIQUIDATED</th>\n",
       "      <th>STRIKE OFF</th>\n",
       "      <th>UNDER LIQUIDATION</th>\n",
       "      <th>UNDER PROCESS OF STRIKING OFF</th>\n",
       "      <th>RATIO_ACTIVE_DORMANT</th>\n",
       "    </tr>\n",
       "  </thead>\n",
       "  <tbody>\n",
       "    <tr>\n",
       "      <th>Andaman Nicobar</th>\n",
       "      <td>200</td>\n",
       "      <td>2</td>\n",
       "      <td>0</td>\n",
       "      <td>0</td>\n",
       "      <td>0</td>\n",
       "      <td>0</td>\n",
       "      <td>0</td>\n",
       "      <td>46</td>\n",
       "      <td>0</td>\n",
       "      <td>0</td>\n",
       "      <td>5</td>\n",
       "      <td>0</td>\n",
       "      <td>0</td>\n",
       "      <td>0</td>\n",
       "    </tr>\n",
       "    <tr>\n",
       "      <th>Andhra Pradesh</th>\n",
       "      <td>13397</td>\n",
       "      <td>7</td>\n",
       "      <td>72</td>\n",
       "      <td>4</td>\n",
       "      <td>8</td>\n",
       "      <td>0</td>\n",
       "      <td>0</td>\n",
       "      <td>5390</td>\n",
       "      <td>0</td>\n",
       "      <td>1</td>\n",
       "      <td>2061</td>\n",
       "      <td>53</td>\n",
       "      <td>212</td>\n",
       "      <td>0</td>\n",
       "    </tr>\n",
       "    <tr>\n",
       "      <th>Arunachal Pradesh</th>\n",
       "      <td>183</td>\n",
       "      <td>0</td>\n",
       "      <td>0</td>\n",
       "      <td>0</td>\n",
       "      <td>0</td>\n",
       "      <td>0</td>\n",
       "      <td>0</td>\n",
       "      <td>9</td>\n",
       "      <td>0</td>\n",
       "      <td>0</td>\n",
       "      <td>234</td>\n",
       "      <td>2</td>\n",
       "      <td>61</td>\n",
       "      <td>0</td>\n",
       "    </tr>\n",
       "    <tr>\n",
       "      <th>Assam</th>\n",
       "      <td>5106</td>\n",
       "      <td>0</td>\n",
       "      <td>65</td>\n",
       "      <td>5</td>\n",
       "      <td>5</td>\n",
       "      <td>0</td>\n",
       "      <td>4</td>\n",
       "      <td>174</td>\n",
       "      <td>0</td>\n",
       "      <td>1</td>\n",
       "      <td>2644</td>\n",
       "      <td>14</td>\n",
       "      <td>1245</td>\n",
       "      <td>0</td>\n",
       "    </tr>\n",
       "    <tr>\n",
       "      <th>Bihar</th>\n",
       "      <td>12653</td>\n",
       "      <td>6</td>\n",
       "      <td>4</td>\n",
       "      <td>2</td>\n",
       "      <td>2</td>\n",
       "      <td>0</td>\n",
       "      <td>14</td>\n",
       "      <td>1208</td>\n",
       "      <td>5</td>\n",
       "      <td>1</td>\n",
       "      <td>2410</td>\n",
       "      <td>41</td>\n",
       "      <td>3323</td>\n",
       "      <td>0</td>\n",
       "    </tr>\n",
       "  </tbody>\n",
       "</table>\n",
       "</div>"
      ],
      "text/plain": [
       "                   ACTIVE  ACTIVE IN PROGRESS  AMALGAMATED  CONVERTED TO LLP  \\\n",
       "Andaman Nicobar       200                   2            0                 0   \n",
       "Andhra Pradesh      13397                   7           72                 4   \n",
       "Arunachal Pradesh     183                   0            0                 0   \n",
       "Assam                5106                   0           65                 5   \n",
       "Bihar               12653                   6            4                 2   \n",
       "\n",
       "                   CONVERTED TO LLP AND DISSOLVED  DEFAULT  DISSOLVED  \\\n",
       "Andaman Nicobar                                 0        0          0   \n",
       "Andhra Pradesh                                  8        0          0   \n",
       "Arunachal Pradesh                               0        0          0   \n",
       "Assam                                           5        0          4   \n",
       "Bihar                                           2        0         14   \n",
       "\n",
       "                   DORMANT  Dormant under section 455 of Companies Act, 2013  \\\n",
       "Andaman Nicobar         46                                                 0   \n",
       "Andhra Pradesh        5390                                                 0   \n",
       "Arunachal Pradesh        9                                                 0   \n",
       "Assam                  174                                                 0   \n",
       "Bihar                 1208                                                 5   \n",
       "\n",
       "                   LIQUIDATED  STRIKE OFF  UNDER LIQUIDATION  \\\n",
       "Andaman Nicobar             0           5                  0   \n",
       "Andhra Pradesh              1        2061                 53   \n",
       "Arunachal Pradesh           0         234                  2   \n",
       "Assam                       1        2644                 14   \n",
       "Bihar                       1        2410                 41   \n",
       "\n",
       "                   UNDER PROCESS OF STRIKING OFF  RATIO_ACTIVE_DORMANT  \n",
       "Andaman Nicobar                                0                     0  \n",
       "Andhra Pradesh                               212                     0  \n",
       "Arunachal Pradesh                             61                     0  \n",
       "Assam                                       1245                     0  \n",
       "Bihar                                       3323                     0  "
      ]
     },
     "execution_count": 3,
     "metadata": {},
     "output_type": "execute_result"
    }
   ],
   "source": [
    "mn = mn_tble.fillna(0)\n",
    "df_tble = mn.astype(int)\n",
    "df_tble.head()"
   ]
  },
  {
   "cell_type": "code",
   "execution_count": 4,
   "metadata": {
    "collapsed": true
   },
   "outputs": [],
   "source": [
    "import seaborn as sns\n",
    "%matplotlib inline"
   ]
  },
  {
   "cell_type": "code",
   "execution_count": 5,
   "metadata": {},
   "outputs": [
    {
     "data": {
      "text/plain": [
       "<seaborn.axisgrid.FacetGrid at 0x120f409b0>"
      ]
     },
     "execution_count": 5,
     "metadata": {},
     "output_type": "execute_result"
    },
    {
     "data": {
      "image/png": "[encoded data removed]",
      "text/plain": [
       "<matplotlib.figure.Figure at 0x120f40a20>"
      ]
     },
     "metadata": {},
     "output_type": "display_data"
    }
   ],
   "source": [
    "sns.lmplot('ACTIVE','DISSOLVED', data=mn, fit_reg=False)"
   ]
  },
  {
   "cell_type": "code",
   "execution_count": 6,
   "metadata": {
    "collapsed": true
   },
   "outputs": [],
   "source": [
    "df1=df_tble.drop('RATIO_ACTIVE_DORMANT',axis=1)\n",
    "df1['ratio_active_dorm'] = df_tble['ACTIVE']/df_tble['DORMANT']"
   ]
  },
  {
   "cell_type": "code",
   "execution_count": 7,
   "metadata": {},
   "outputs": [
    {
     "data": {
      "text/plain": [
       "<matplotlib.axes._subplots.AxesSubplot at 0x117fc3160>"
      ]
     },
     "execution_count": 7,
     "metadata": {},
     "output_type": "execute_result"
    },
    {
     "data": {
      "image/png": "[encoded data removed]",
      "text/plain": [
       "<matplotlib.figure.Figure at 0x120f2e0f0>"
      ]
     },
     "metadata": {},
     "output_type": "display_data"
    }
   ],
   "source": [
    "sns.kdeplot(df1.ACTIVE, df1.DISSOLVED)"
   ]
  },
  {
   "cell_type": "code",
   "execution_count": 8,
   "metadata": {},
   "outputs": [
    {
     "data": {
      "text/plain": [
       "<matplotlib.axes._subplots.AxesSubplot at 0x11e8079b0>"
      ]
     },
     "execution_count": 8,
     "metadata": {},
     "output_type": "execute_result"
    },
    {
     "data": {
      "image/png": "[encoded data removed]",
      "text/plain": [
       "<matplotlib.figure.Figure at 0x121506828>"
      ]
     },
     "metadata": {},
     "output_type": "display_data"
    }
   ],
   "source": [
    "sns.distplot(df1.ACTIVE)"
   ]
  },
  {
   "cell_type": "code",
   "execution_count": 9,
   "metadata": {},
   "outputs": [
    {
     "data": {
      "text/plain": [
       "<matplotlib.axes._subplots.AxesSubplot at 0x122949da0>"
      ]
     },
     "execution_count": 9,
     "metadata": {},
     "output_type": "execute_result"
    },
    {
     "data": {
      "image/png": "[encoded data removed]",
      "text/plain": [
       "<matplotlib.figure.Figure at 0x117fb2470>"
      ]
     },
     "metadata": {},
     "output_type": "display_data"
    }
   ],
   "source": [
    "sns.boxplot([df1.ACTIVE, df1.DISSOLVED])"
   ]
  },
  {
   "cell_type": "code",
   "execution_count": 10,
   "metadata": {},
   "outputs": [
    {
     "data": {
      "text/plain": [
       "<matplotlib.axes._subplots.AxesSubplot at 0x11ea527b8>"
      ]
     },
     "execution_count": 10,
     "metadata": {},
     "output_type": "execute_result"
    },
    {
     "data": {
      "image/png": "[encoded data removed]",
      "text/plain": [
       "<matplotlib.figure.Figure at 0x1214f0240>"
      ]
     },
     "metadata": {},
     "output_type": "display_data"
    }
   ],
   "source": [
    "sns.violinplot([df1.ACTIVE, df1.DORMANT])"
   ]
  },
  {
   "cell_type": "code",
   "execution_count": 11,
   "metadata": {},
   "outputs": [
    {
     "data": {
      "text/plain": [
       "<matplotlib.axes._subplots.AxesSubplot at 0x117610fd0>"
      ]
     },
     "execution_count": 11,
     "metadata": {},
     "output_type": "execute_result"
    },
    {
     "data": {
      "image/png": "[encoded data removed]",
      "text/plain": [
       "<matplotlib.figure.Figure at 0x1175f4438>"
      ]
     },
     "metadata": {},
     "output_type": "display_data"
    }
   ],
   "source": [
    "sns.heatmap([df1.ACTIVE, df1.DORMANT], annot=True, fmt=\"d\")"
   ]
  },
  {
   "cell_type": "code",
   "execution_count": null,
   "metadata": {},
   "outputs": [
    {
     "data": {
      "text/html": [
       "<div>\n",
       "<style>\n",
       "    .dataframe thead tr:only-child th {\n",
       "        text-align: right;\n",
       "    }\n",
       "\n",
       "    .dataframe thead th {\n",
       "        text-align: left;\n",
       "    }\n",
       "\n",
       "    .dataframe tbody tr th {\n",
       "        vertical-align: top;\n",
       "    }\n",
       "</style>\n",
       "<table border=\"1\" class=\"dataframe\">\n",
       "  <thead>\n",
       "    <tr style=\"text-align: right;\">\n",
       "      <th></th>\n",
       "      <th>ACTIVE</th>\n",
       "      <th>ACTIVE IN PROGRESS</th>\n",
       "      <th>AMALGAMATED</th>\n",
       "      <th>CONVERTED TO LLP</th>\n",
       "      <th>CONVERTED TO LLP AND DISSOLVED</th>\n",
       "      <th>DEFAULT</th>\n",
       "      <th>DISSOLVED</th>\n",
       "      <th>DORMANT</th>\n",
       "      <th>Dormant under section 455 of Companies Act, 2013</th>\n",
       "      <th>LIQUIDATED</th>\n",
       "      <th>STRIKE OFF</th>\n",
       "      <th>UNDER LIQUIDATION</th>\n",
       "      <th>UNDER PROCESS OF STRIKING OFF</th>\n",
       "    </tr>\n",
       "  </thead>\n",
       "  <tbody>\n",
       "    <tr>\n",
       "      <th>Andaman Nicobar</th>\n",
       "      <td>200</td>\n",
       "      <td>2</td>\n",
       "      <td>0</td>\n",
       "      <td>0</td>\n",
       "      <td>0</td>\n",
       "      <td>0</td>\n",
       "      <td>0</td>\n",
       "      <td>46</td>\n",
       "      <td>0</td>\n",
       "      <td>0</td>\n",
       "      <td>5</td>\n",
       "      <td>0</td>\n",
       "      <td>0</td>\n",
       "    </tr>\n",
       "    <tr>\n",
       "      <th>Andhra Pradesh</th>\n",
       "      <td>13397</td>\n",
       "      <td>7</td>\n",
       "      <td>72</td>\n",
       "      <td>4</td>\n",
       "      <td>8</td>\n",
       "      <td>0</td>\n",
       "      <td>0</td>\n",
       "      <td>5390</td>\n",
       "      <td>0</td>\n",
       "      <td>1</td>\n",
       "      <td>2061</td>\n",
       "      <td>53</td>\n",
       "      <td>212</td>\n",
       "    </tr>\n",
       "  </tbody>\n",
       "</table>\n",
       "</div>"
      ],
      "text/plain": [
       "                 ACTIVE  ACTIVE IN PROGRESS  AMALGAMATED  CONVERTED TO LLP  \\\n",
       "Andaman Nicobar     200                   2            0                 0   \n",
       "Andhra Pradesh    13397                   7           72                 4   \n",
       "\n",
       "                 CONVERTED TO LLP AND DISSOLVED  DEFAULT  DISSOLVED  DORMANT  \\\n",
       "Andaman Nicobar                               0        0          0       46   \n",
       "Andhra Pradesh                                8        0          0     5390   \n",
       "\n",
       "                 Dormant under section 455 of Companies Act, 2013  LIQUIDATED  \\\n",
       "Andaman Nicobar                                                 0           0   \n",
       "Andhra Pradesh                                                  0           1   \n",
       "\n",
       "                 STRIKE OFF  UNDER LIQUIDATION  UNDER PROCESS OF STRIKING OFF  \n",
       "Andaman Nicobar           5                  0                              0  \n",
       "Andhra Pradesh         2061                 53                            212  "
      ]
     },
     "execution_count": 12,
     "metadata": {},
     "output_type": "execute_result"
    }
   ],
   "source": [
    "df3 = df1.drop('ratio_active_dorm',axis=1)\n",
    "\n",
    "df3.head(2)"
   ]
  },
  {
   "cell_type": "code",
   "execution_count": null,
   "metadata": {},
   "outputs": [
    {
     "data": {
      "text/plain": [
       "<seaborn.axisgrid.PairGrid at 0x119587358>"
      ]
     },
     "execution_count": 13,
     "metadata": {},
     "output_type": "execute_result"
    }
   ],
   "source": [
    "sns.pairplot(df3, hue=None, hue_order=None, palette=None, vars=None, x_vars=None, y_vars=None, kind='reg', diag_kind='kde', markers=None, size=2.5, aspect=1, dropna=False, plot_kws=None, diag_kws=None, grid_kws=None)"
   ]
  },
  {
   "cell_type": "code",
   "execution_count": null,
   "metadata": {
    "collapsed": true
   },
   "outputs": [],
   "source": [
    "import seaborn as sns; sns.set(style=\"ticks\", color_codes=True)\n",
    "g = sns.pairplot(df3)"
   ]
  },
  {
   "cell_type": "code",
   "execution_count": null,
   "metadata": {
    "collapsed": true
   },
   "outputs": [],
   "source": [
    "g = sns.pairplot(df3, size = 5,vars=[\"ACTIVE\", \"DORMANT\"])"
   ]
  },
  {
   "cell_type": "code",
   "execution_count": null,
   "metadata": {
    "collapsed": true
   },
   "outputs": [],
   "source": [
    "g = sns.pairplot(df3,\n",
    "...                  x_vars=[\"ACTIVE\", \"DORMANT\"],\n",
    "...                  y_vars=[\"AMALGAMATED\", \"LIQUIDATED\"])\n"
   ]
  },
  {
   "cell_type": "code",
   "execution_count": null,
   "metadata": {
    "collapsed": true,
    "scrolled": true
   },
   "outputs": [],
   "source": [
    "g = sns.pairplot(df3, diag_kind=\"kde\")"
   ]
  },
  {
   "cell_type": "code",
   "execution_count": null,
   "metadata": {
    "collapsed": true
   },
   "outputs": [],
   "source": [
    "df4=df3.sort_values('DORMANT',ascending=False)"
   ]
  },
  {
   "cell_type": "code",
   "execution_count": null,
   "metadata": {
    "collapsed": true,
    "scrolled": true
   },
   "outputs": [],
   "source": [
    "# ax = sns.barplot(x='DORMANT', y=\"ACTIVE\", data=df4,orient='h')\n",
    "# sns.set(style=\"darkgrid\")   # Only need to call this once \n",
    "fig, ax1 = plt.subplots(figsize=(12,8)) \n",
    "sns.barplot(x=df4.index, y='DORMANT', hue=None,data=df4)\n",
    "plt.xticks(rotation=90)"
   ]
  },
  {
   "cell_type": "code",
   "execution_count": null,
   "metadata": {
    "collapsed": true
   },
   "outputs": [],
   "source": [
    "df5=df4.iloc[:,[0,7]]\n",
    "df5.head()"
   ]
  },
  {
   "cell_type": "code",
   "execution_count": null,
   "metadata": {
    "collapsed": true
   },
   "outputs": [],
   "source": [
    "import pylab as pl\n",
    "\n",
    "\n",
    "ax = df5.plot(kind=\"bar\")\n",
    "ax2 = ax.twinx()\n",
    "for r in ax.patches[len(df5):]:\n",
    "    r.set_transform(ax2.transData)\n",
    "ax2.set_ylim(0, 200000);\n"
   ]
  },
  {
   "cell_type": "code",
   "execution_count": null,
   "metadata": {
    "collapsed": true
   },
   "outputs": [],
   "source": [
    "plt.figure(figsize=(10,15))\n",
    "df5.plot()\n",
    "plt.xticks(rotation=90)\n",
    "# plt.xticks(df5.index,df5['ACTIVE'],rotation=90)"
   ]
  },
  {
   "cell_type": "code",
   "execution_count": null,
   "metadata": {
    "collapsed": true
   },
   "outputs": [],
   "source": [
    "sns.lmplot('ACTIVE','DORMANT', data=df5, fit_reg=True)"
   ]
  },
  {
   "cell_type": "code",
   "execution_count": null,
   "metadata": {
    "collapsed": true
   },
   "outputs": [],
   "source": [
    "df5['DORMANT'].plot(kind='pie',autopct='%1.1f%%',shadow=True)\n",
    "plt.title('Distribution of Dormant Companies - 2015',size=20)\n",
    "plt.tight_layout()\n",
    "plt.show()"
   ]
  },
  {
   "cell_type": "code",
   "execution_count": null,
   "metadata": {
    "collapsed": true
   },
   "outputs": [],
   "source": [
    "df5['ACTIVE'].plot(kind='pie',autopct='%1.1f%%',shadow=True)\n",
    "plt.title('Distribution of ACTIVE Companies - 2015',size=20)\n",
    "plt.tight_layout()\n",
    "plt.show()"
   ]
  },
  {
   "cell_type": "code",
   "execution_count": null,
   "metadata": {
    "collapsed": true
   },
   "outputs": [],
   "source": [
    "fig,ax=plt.subplots(1,2,figsize=(18,10))\n",
    "sns.countplot(df5['ACTIVE'],ax=ax[0],palette='Set2').set_title('Private Companies Active - 2015')\n",
    "plt.xticks(rotation=90)\n",
    "plt.ylabel('No. of companies')\n",
    "\n",
    "sns.countplot(df5['DORMANT'],ax=ax[1],palette='Set3').set_title('Private Companies Dormant - 2015')\n",
    "plt.xticks(rotation=90)\n",
    "plt.show()"
   ]
  },
  {
   "cell_type": "code",
   "execution_count": null,
   "metadata": {
    "collapsed": true
   },
   "outputs": [],
   "source": [
    "sns.heatmap(df5,annot=False,cmap='RdYlGn',linewidths=4.8)\n",
    "plt.title('COMPANIES DATA')\n",
    "plt.show()"
   ]
  },
  {
   "cell_type": "code",
   "execution_count": null,
   "metadata": {
    "collapsed": true
   },
   "outputs": [],
   "source": [
    "f, ax = plt.subplots(1,2,figsize=(18,8))\n",
    "df5['ACTIVE'].plot.pie(autopct='%1.1f%%',ax=ax[0],shadow=True)\n",
    "ax[0].set_title('PRIVATE COMPANIES ACTIVE - 2015',size=15)\n",
    "ax[0].set_ylabel('')\n",
    "fig = plt.gcf()\n",
    "df5['DORMANT'].plot.pie(autopct='%1.1f%%',ax=ax[1],shadow=True)\n",
    "ax[1].set_title('PRIVATE COMPANIES DORMANT - 2015',size=15)\n",
    "ax[1].set_ylabel('xxx')\n",
    "plt.show()"
   ]
  },
  {
   "cell_type": "code",
   "execution_count": null,
   "metadata": {
    "collapsed": true
   },
   "outputs": [],
   "source": [
    "import pandas as pd\n",
    "import bokeh.io\n",
    "from bokeh.charts import Donut, HeatMap, Histogram, Line, Scatter, show, output_notebook, output_file\n",
    "from bokeh.plotting import figure\n",
    "\n",
    "# Input data files are available in the \"../input/\" directory.\n",
    "# For example, running this (by clicking run or pressing Shift+Enter) will list the files in the input directory\n",
    "\n",
    "\n",
    "# Any results you write to the current directory are saved as output.\n"
   ]
  },
  {
   "cell_type": "code",
   "execution_count": null,
   "metadata": {
    "collapsed": true
   },
   "outputs": [],
   "source": [
    "#visualizing the data using bokeh scatterplot\n",
    "#output_file(\"rock_subgenres_yearwise.html\", title=\"rock_subgenres_yearwise\")\n",
    "hm_rock_subgenres = Scatter(df5, x='DORMANT', y='ACTIVE', width=800, plot_height=800)\n",
    "#x-axis properties\n",
    "hm_rock_subgenres.xgrid.visible = False\n",
    "#y-axis properties\n",
    "hm_rock_subgenres.yaxis.major_label_orientation = 'horizontal'\n",
    "hm_rock_subgenres.yaxis.axis_label = 'Subgenres of Rock'\n",
    "hm_rock_subgenres.ygrid.visible = False\n",
    "show(hm_rock_subgenres)\n"
   ]
  },
  {
   "cell_type": "code",
   "execution_count": null,
   "metadata": {
    "collapsed": true
   },
   "outputs": [],
   "source": [
    "import numpy as np\n",
    "df_jobtype = pd.pivot_table(df5,\n",
    "                        values = ['ACTIVE', 'DORMANT'],\n",
    "                        index = df5.index,\n",
    "                        columns = [],aggfunc=[np.mean], \n",
    "                        margins=True).fillna('')\n",
    "\n",
    "cm = sns.light_palette(\"green\", as_cmap=True)\n",
    "df_jobtype.style.background_gradient(cmap=cm)"
   ]
  },
  {
   "cell_type": "code",
   "execution_count": null,
   "metadata": {
    "collapsed": true
   },
   "outputs": [],
   "source": [
    "import csv "
   ]
  },
  {
   "cell_type": "code",
   "execution_count": null,
   "metadata": {
    "collapsed": true
   },
   "outputs": [],
   "source": [
    "with open('/Users/nish/Downloads/Company Files/test/company_master_data_upto_Mar_2015_Andhra Pradesh.csv') as csvfile:\n",
    "    readCSV = csv.reader(csvfile,delimiter=' ')\n",
    "    print (readCSV)"
   ]
  },
  {
   "cell_type": "code",
   "execution_count": null,
   "metadata": {
    "collapsed": true
   },
   "outputs": [],
   "source": [
    "with open(filename, '/Users/nish/Downloads/Company Files/test/company_master_data_upto_Mar_2015_Andhra Pradesh.csv') as csvfile:\n",
    "    temp_lines = csvfile.readline() + '\\n' + csvfile.readline()\n",
    "    dialect = csv.Sniffer().sniff(temp_lines, delimiters=',|')\n",
    "\n"
   ]
  },
  {
   "cell_type": "markdown",
   "metadata": {},
   "source": [
    "# OCCUPATION WISE CHARTS"
   ]
  },
  {
   "cell_type": "code",
   "execution_count": null,
   "metadata": {
    "collapsed": true
   },
   "outputs": [],
   "source": [
    "import glob\n",
    "import pandas as pd\n",
    "\n",
    "# get data file names\n",
    "path =r'/Users/nish/Downloads/Company Files/test'\n",
    "filenames = glob.glob(path + \"/*.csv\")\n",
    "\n",
    "dic = {}\n",
    "def retDataFrame(filename):   \n",
    "    tDf1 = pd.read_csv(filename)\n",
    "    tDf2 = tDf1.groupby('PRINCIPAL_BUSINESS_ACTIVITY').size()\n",
    "    tDf3 = tDf2.to_frame(name=None).T\n",
    "    tDf4 = tDf3.rename(index={0: b[0]})\n",
    "    return tDf4;\n",
    "\n",
    "for filename in filenames:\n",
    "    a=filename.split('_')\n",
    "    b=a[6].split('.')\n",
    "    dic[b[0]] = retDataFrame(filename)\n",
    "\n",
    "# Concatenate all data into one DataFrame\n",
    "PBA_df = pd.concat(dic.values())\n",
    "PBA_final=PBA_df.fillna(0)"
   ]
  },
  {
   "cell_type": "code",
   "execution_count": null,
   "metadata": {
    "collapsed": true
   },
   "outputs": [],
   "source": [
    "import seaborn as sns\n",
    "PBA_corr=PBA_final.corr()\n",
    "sns.heatmap(PBA_corr, \n",
    "            xticklabels=PBA_corr.columns.values,\n",
    "            yticklabels=PBA_corr.columns.values)"
   ]
  },
  {
   "cell_type": "code",
   "execution_count": null,
   "metadata": {
    "collapsed": true
   },
   "outputs": [],
   "source": [
    "PBA_Agr = PBA_final['Agriculture and Allied Activities']\n",
    "plch = PBA_final.columns.values\n",
    "\n",
    "\n",
    "PBA_Agr.plot(kind='pie',autopct='%1.1f%%',shadow=True,figsize=(10,8),use_index=False)\n",
    "plt.title('Which STATE consists of highest amount of companies in Agriculture and Allied Activities in India',size=15)\n",
    "plt.tight_layout()\n",
    "plt.xticks(rotation=90)\n",
    "plt.show()"
   ]
  },
  {
   "cell_type": "code",
   "execution_count": null,
   "metadata": {
    "collapsed": true
   },
   "outputs": [],
   "source": [
    "PBA_final.head()"
   ]
  },
  {
   "cell_type": "code",
   "execution_count": null,
   "metadata": {
    "collapsed": true
   },
   "outputs": [],
   "source": [
    "import matplotlib.pyplot as plt\n",
    "PBA_Agr = PBA_final['Business Services']\n",
    "plch = PBA_final.columns.values\n",
    "\n",
    "\n",
    "PBA_Agr.plot(kind='pie',autopct='%1.0f%%',shadow=True,figsize=(10,8),use_index=False)\n",
    "plt.title('Which STATE consists of highest amount of companies in Business Services',size=15)\n",
    "plt.tight_layout()\n",
    "plt.xticks(rotation=90)\n",
    "plt.show()"
   ]
  },
  {
   "cell_type": "code",
   "execution_count": null,
   "metadata": {
    "collapsed": true,
    "scrolled": true
   },
   "outputs": [],
   "source": [
    "sns.pointplot(x=PBA_Agr.index, y=PBA_Agr, hue=None, data=PBA_Agr, order=None, hue_order=None)"
   ]
  },
  {
   "cell_type": "code",
   "execution_count": null,
   "metadata": {
    "collapsed": true
   },
   "outputs": [],
   "source": [
    "PBA_final.plot(subplots=True,figsize=(10,5),kind='line')\n",
    "plt.xticks(rotation=90)"
   ]
  },
  {
   "cell_type": "code",
   "execution_count": null,
   "metadata": {
    "collapsed": true
   },
   "outputs": [],
   "source": [
    "PBA_final.plot(legend='upper left')\n",
    "plt.figure(figsize=(225,115))\n"
   ]
  },
  {
   "cell_type": "markdown",
   "metadata": {},
   "source": [
    "# By Date of Registration"
   ]
  },
  {
   "cell_type": "code",
   "execution_count": null,
   "metadata": {
    "collapsed": true
   },
   "outputs": [],
   "source": [
    "import glob\n",
    "import pandas as pd\n",
    "\n",
    "# get data file names\n",
    "path =r'/Users/nish/Downloads/Company Files/test'\n",
    "filenames = glob.glob(path + \"/*.csv\")\n",
    "\n",
    "dic = {}\n",
    "def retDataFrame(filename):   \n",
    "    tDf1 = pd.read_csv(filename,index_col='DATE_OF_REGISTRATION',parse_dates=True)\n",
    "    tDf2 = tDf1.groupby('DATE_OF_REGISTRATION').size\n",
    "    \n",
    "    tDf3 = tDf2.to_frame(name=None).T\n",
    "    tDf4 = tDf3.rename(index={0: b[0]})\n",
    "    return tDf4;\n",
    "\n",
    "for filename in filenames:\n",
    "    a=filename.split('_')\n",
    "    b=a[6].split('.')\n",
    "    dic[b[0]] = retDataFrame(filename)\n",
    "\n",
    "# Concatenate all data into one DataFrame\n",
    "RegDate_df = pd.concat(dic.values())\n",
    "RegDate_final=RegDate_df.fillna(0)"
   ]
  },
  {
   "cell_type": "code",
   "execution_count": null,
   "metadata": {
    "collapsed": true
   },
   "outputs": [],
   "source": [
    "RegDate=RegDate_final.T"
   ]
  },
  {
   "cell_type": "code",
   "execution_count": null,
   "metadata": {
    "collapsed": true
   },
   "outputs": [],
   "source": [
    "RegDate.sort_index()"
   ]
  },
  {
   "cell_type": "code",
   "execution_count": null,
   "metadata": {
    "collapsed": true
   },
   "outputs": [],
   "source": [
    "%matplotlib inline"
   ]
  },
  {
   "cell_type": "code",
   "execution_count": null,
   "metadata": {
    "collapsed": true
   },
   "outputs": [],
   "source": [
    "test = pd.read_csv('/Users/nish/Downloads/roughexcel.csv',index_col='DATE_OF_REGISTRATION',parse_dates=True)\n",
    "test.sort_index()"
   ]
  },
  {
   "cell_type": "code",
   "execution_count": null,
   "metadata": {
    "collapsed": true
   },
   "outputs": [],
   "source": [
    "test"
   ]
  },
  {
   "cell_type": "code",
   "execution_count": null,
   "metadata": {},
   "outputs": [],
   "source": [
    "df_tble"
   ]
  },
  {
   "cell_type": "markdown",
   "metadata": {},
   "source": [
    "### Segmenting to see how machine learning classifies this data"
   ]
  },
  {
   "cell_type": "code",
   "execution_count": null,
   "metadata": {
    "collapsed": true
   },
   "outputs": [],
   "source": [
    "import csv \n",
    " \n",
    "import numpy as np \n",
    "import matplotlib.pyplot as plt\n",
    "\n",
    "%matplotlib inline"
   ]
  },
  {
   "cell_type": "code",
   "execution_count": null,
   "metadata": {
    "collapsed": true
   },
   "outputs": [],
   "source": [
    "from sklearn.cluster import MeanShift, estimate_bandwidth"
   ]
  },
  {
   "cell_type": "code",
   "execution_count": null,
   "metadata": {},
   "outputs": [],
   "source": [
    "df_tble"
   ]
  },
  {
   "cell_type": "code",
   "execution_count": null,
   "metadata": {
    "collapsed": true
   },
   "outputs": [],
   "source": [
    "names=df_tble.columns.tolist"
   ]
  },
  {
   "cell_type": "code",
   "execution_count": null,
   "metadata": {
    "collapsed": true
   },
   "outputs": [],
   "source": [
    "X = np.array(df_tble)"
   ]
  },
  {
   "cell_type": "code",
   "execution_count": null,
   "metadata": {},
   "outputs": [],
   "source": [
    "X"
   ]
  },
  {
   "cell_type": "code",
   "execution_count": null,
   "metadata": {
    "collapsed": true
   },
   "outputs": [],
   "source": [
    "from sklearn.cluster import MeanShift, estimate_bandwidth\n",
    "\n",
    "# Estimating the bandwidth of input data\n",
    "bandwidth = estimate_bandwidth(X, quantile=0.2, n_samples=len(X))"
   ]
  },
  {
   "cell_type": "code",
   "execution_count": null,
   "metadata": {},
   "outputs": [],
   "source": [
    "bandwidth"
   ]
  },
  {
   "cell_type": "code",
   "execution_count": null,
   "metadata": {},
   "outputs": [],
   "source": [
    "# Compute clustering with MeanShift\n",
    "meanshift_model = MeanShift(bandwidth=bandwidth, bin_seeding=True)\n",
    "meanshift_model.fit(X)"
   ]
  },
  {
   "cell_type": "code",
   "execution_count": null,
   "metadata": {},
   "outputs": [],
   "source": [
    "labels = meanshift_model.labels_\n",
    "cluster_centers = meanshift_model.cluster_centers_\n",
    "num_clusters = len(np.unique(labels))\n",
    "\n",
    "print(\"\\nNumber of clusters in input data =\", num_clusters)"
   ]
  },
  {
   "cell_type": "code",
   "execution_count": null,
   "metadata": {
    "collapsed": true
   },
   "outputs": [],
   "source": [
    "names=['ACTIVE', 'ACTIVE IN PROGRESS', 'AMALGAMATED', 'CONVERTED TO LLP',\n",
    "       'CONVERTED TO LLP AND DISSOLVED', 'DEFAULT', 'DISSOLVED', 'DORMANT',\n",
    "       'Dormant under section 455 of Companies Act, 2013', 'LIQUIDATED',\n",
    "       'STRIKE OFF', 'UNDER LIQUIDATION', 'UNDER PROCESS OF STRIKING OFF',\n",
    "       'RATIO_ACTIVE_DORMANT']"
   ]
  },
  {
   "cell_type": "code",
   "execution_count": null,
   "metadata": {},
   "outputs": [],
   "source": [
    "print(\"\\nCenters of clusters:\")\n",
    "print('\\t'.join([name[:] for name in names]))\n",
    "for cluster_center in cluster_centers:\n",
    "    print('\\t'.join([str(int(x)) for x in cluster_center]))"
   ]
  },
  {
   "cell_type": "code",
   "execution_count": null,
   "metadata": {},
   "outputs": [],
   "source": [
    "type(a)"
   ]
  },
  {
   "cell_type": "code",
   "execution_count": null,
   "metadata": {
    "collapsed": true
   },
   "outputs": [],
   "source": [
    "# Extract two features for visualization \n",
    "cluster_centers_2d = cluster_centers[:, 1:3]"
   ]
  },
  {
   "cell_type": "code",
   "execution_count": null,
   "metadata": {},
   "outputs": [],
   "source": [
    "plt.figure()\n",
    "plt.scatter(cluster_centers_2d[:,0], cluster_centers_2d[:,1], \n",
    "        s=120, edgecolors='black', facecolors='none')\n",
    "\n",
    "offset = 0.25\n",
    "plt.xlim(cluster_centers_2d[:,0].min() - offset * cluster_centers_2d[:,0].ptp(),\n",
    "        cluster_centers_2d[:,0].max() + offset * cluster_centers_2d[:,0].ptp(),)\n",
    "plt.ylim(cluster_centers_2d[:,1].min() - offset * cluster_centers_2d[:,1].ptp(),\n",
    "        cluster_centers_2d[:,1].max() + offset * cluster_centers_2d[:,1].ptp())\n",
    "\n",
    "plt.title('Centers of 2D clusters')\n",
    "plt.show()"
   ]
  },
  {
   "cell_type": "code",
   "execution_count": null,
   "metadata": {},
   "outputs": [],
   "source": [
    "meanshift_model.labels_"
   ]
  },
  {
   "cell_type": "code",
   "execution_count": null,
   "metadata": {},
   "outputs": [],
   "source": [
    "meanshift_model"
   ]
  },
  {
   "cell_type": "code",
   "execution_count": null,
   "metadata": {},
   "outputs": [],
   "source": [
    "# Extract the centers of clusters \n",
    "cluster_centers = meanshift_model.cluster_centers_ \n",
    "print('\\nCenters of clusters:\\n', cluster_centers)"
   ]
  },
  {
   "cell_type": "code",
   "execution_count": null,
   "metadata": {},
   "outputs": [],
   "source": [
    "# Estimate the number of clusters \n",
    "labels = meanshift_model.labels_ \n",
    "num_clusters = len(np.unique(labels)) \n",
    "print(\"\\nNumber of clusters in input data =\", num_clusters)\n",
    "\n",
    "\n",
    "# Plot the points and cluster centers \n",
    "plt.figure() \n",
    "markers = 'o*xvs' \n",
    "for i, marker in zip(range(num_clusters), markers): \n",
    "    # Plot points that belong to the current cluster \n",
    "    plt.scatter(X[labels==i, 0], X[labels==i, 1], marker=marker, color='green') \n",
    "    # Plot the cluster center \n",
    "    cluster_center = cluster_centers[i] \n",
    "    plt.plot(cluster_center[0], cluster_center[1], marker='o',  \n",
    "            markerfacecolor='black', markeredgecolor='black',  \n",
    "            markersize=15) \n",
    " \n",
    "plt.title('Clusters') \n",
    "plt.show()"
   ]
  },
  {
   "cell_type": "code",
   "execution_count": null,
   "metadata": {},
   "outputs": [],
   "source": [
    "meanshift_model.predict([[  5.50704000e+03   1.16000000e+00   3.22000000e+01   1.60000000e+00\n",
    "    5.12000000e+00   4.00000000e-02   4.16000000e+00   6.85240000e+02\n",
    "    1.64000000e+00   8.00000000e-01   1.70564000e+03   2.13600000e+01\n",
    "    3.10240000e+02   0.00000000e+00]])"
   ]
  },
  {
   "cell_type": "code",
   "execution_count": null,
   "metadata": {
    "collapsed": true
   },
   "outputs": [],
   "source": [
    "S = meanshift_model.predict(X)"
   ]
  },
  {
   "cell_type": "code",
   "execution_count": null,
   "metadata": {},
   "outputs": [],
   "source": [
    "for i,d in enumerate(S):\n",
    "    if d == 0:\n",
    "        b=(X[i])\n",
    "        print(b)"
   ]
  },
  {
   "cell_type": "code",
   "execution_count": null,
   "metadata": {
    "collapsed": true
   },
   "outputs": [],
   "source": [
    "c=pd.DataFrame(b)"
   ]
  },
  {
   "cell_type": "code",
   "execution_count": null,
   "metadata": {},
   "outputs": [],
   "source": [
    "c"
   ]
  },
  {
   "cell_type": "code",
   "execution_count": null,
   "metadata": {
    "collapsed": true
   },
   "outputs": [],
   "source": []
  }
 ],
 "metadata": {
  "kernelspec": {
   "display_name": "Python 3",
   "language": "python",
   "name": "python3"
  },
  "language_info": {
   "codemirror_mode": {
    "name": "ipython",
    "version": 3
   },
   "file_extension": ".py",
   "mimetype": "text/x-python",
   "name": "python",
   "nbconvert_exporter": "python",
   "pygments_lexer": "ipython3",
   "version": "3.6.1"
  }
 },
 "nbformat": 4,
 "nbformat_minor": 2
}
