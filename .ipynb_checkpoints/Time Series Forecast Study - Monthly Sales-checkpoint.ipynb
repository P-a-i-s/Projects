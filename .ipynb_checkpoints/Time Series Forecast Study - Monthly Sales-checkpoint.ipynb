{
 "cells": [
  {
   "cell_type": "code",
   "execution_count": 3,
   "metadata": {},
   "outputs": [
    {
     "name": "stdout",
     "output_type": "stream",
     "text": [
      "scipy: 0.18.1\n",
      "numpy: 1.11.3\n",
      "matplotlib: 2.0.0\n",
      "pandas: 0.19.2\n",
      "sklearn: 0.18.1\n",
      "statsmodels: 0.6.1\n"
     ]
    }
   ],
   "source": [
    "#CHECKING ENVIRONMENTS\n",
    "# scipy\n",
    "import scipy\n",
    "print('scipy: %s' % scipy.__version__)\n",
    "# numpy\n",
    "import numpy\n",
    "print('numpy: %s' % numpy.__version__)\n",
    "# matplotlib\n",
    "import matplotlib\n",
    "print('matplotlib: %s' % matplotlib.__version__)\n",
    "# pandas\n",
    "import pandas\n",
    "print('pandas: %s' % pandas.__version__)\n",
    "# scikit-learn\n",
    "import sklearn\n",
    "print('sklearn: %s' % sklearn.__version__)\n",
    "# statsmodels\n",
    "import statsmodels\n",
    "print('statsmodels: %s' % statsmodels.__version__)"
   ]
  },
  {
   "cell_type": "markdown",
   "metadata": {},
   "source": [
    "### Problem Description\n",
    "\n",
    " * The problem is to predict the number of monthly sales of champagne for the Perrin Freres label (named for a region in France).\n",
    " * The dataset provides the number of monthly sales of champagne from January 1964 to September 1972, or just under 10 years of data.\n",
    " * The values are a count of millions of sales and there are 105 observations."
   ]
  },
  {
   "cell_type": "markdown",
   "metadata": {},
   "source": [
    "### Test Harness\n",
    "* We must develop a test harness to investigate the data and evaluate candidate models.\n",
    "\n",
    "* This involves two steps:\n",
    " - Defining a Validation Dataset.\n",
    " - Developing a Method for Model Evaluation."
   ]
  },
  {
   "cell_type": "markdown",
   "metadata": {},
   "source": [
    "### Dataset Validation: We will withold last one year's data for the final model so that it remains unbiased. "
   ]
  },
  {
   "cell_type": "code",
   "execution_count": 9,
   "metadata": {},
   "outputs": [
    {
     "name": "stdout",
     "output_type": "stream",
     "text": [
      "Dataset 94, Validation 12\n"
     ]
    }
   ],
   "source": [
    "#The code below will load the dataset as a Pandas Series and split into two,...\n",
    "#...one for model development (dataset.csv) and the other for validation (validation.csv).\n",
    "\n",
    "from pandas import Series\n",
    "series = Series.from_csv('/Users/nish/pais-datascience/data/champagne.csv', header=0)\n",
    "split_point = len(series) - 12\n",
    "dataset, validation = series[0:split_point], series[split_point:]\n",
    "print('Dataset %d, Validation %d' % (len(dataset), len(validation)))\n",
    "dataset.to_csv('dataset.csv')\n",
    "validation.to_csv('validation.csv')"
   ]
  },
  {
   "cell_type": "markdown",
   "metadata": {},
   "source": [
    "The specific contents of these files are:\n",
    "\n",
    "dataset.csv: Observations from January 1964 to September 1971 (93 observations)\n",
    "validation.csv: Observations from October 1971 to September 1972 (12 observations)\n",
    "The validation dataset is about 11% of the original dataset.\n",
    "\n",
    "Note that the saved datasets do not have a header line, therefore we do not need to cater for this when working with these files later."
   ]
  },
  {
   "cell_type": "markdown",
   "metadata": {},
   "source": [
    "### Model Evaluation\n",
    "Model evaluation will only be performed on the data in dataset.csv prepared in the previous section. Model evaluation involves two elements:\n",
    "- Performance Measure.\n",
    "- Test Strategy."
   ]
  },
  {
   "cell_type": "markdown",
   "metadata": {},
   "source": [
    "#### Performance Measure:\n",
    "-The observations are a count of champagne sales in millions of units.\n",
    "\n",
    "-We will evaluate the performance of predictions using the root mean squared error (RMSE). This will give more weight to predictions that are grossly wrong and will have the same units as the original data.\n",
    "\n",
    "-Any transforms to the data must be reversed before the RMSE is calculated and reported to make the performance between different methods directly comparable.\n",
    "\n",
    "-We can calculate the RMSE using the helper function from the scikit-learn library mean_squared_error() that calculates the mean squared error between a list of expected values (the test set) and the list of predictions. We can then take the square root of this value to give us an RMSE score."
   ]
  },
  {
   "cell_type": "code",
   "execution_count": 13,
   "metadata": {},
   "outputs": [
    {
     "ename": "SyntaxError",
     "evalue": "invalid syntax (<ipython-input-13-2ef38e21f44e>, line 5)",
     "output_type": "error",
     "traceback": [
      "\u001b[0;36m  File \u001b[0;32m\"<ipython-input-13-2ef38e21f44e>\"\u001b[0;36m, line \u001b[0;32m5\u001b[0m\n\u001b[0;31m    test =\u001b[0m\n\u001b[0m           ^\u001b[0m\n\u001b[0;31mSyntaxError\u001b[0m\u001b[0;31m:\u001b[0m invalid syntax\n"
     ]
    }
   ],
   "source": [
    "#Example:\n",
    "from sklearn.metrics import mean_squared_error\n",
    "from math import sqrt\n",
    "\n",
    "test = \n",
    "predictions = \n",
    "mse = mean_squared_error(test, predictions)\n",
    "rmse = sqrt(mse)\n",
    "print('RMSE: %.3f' % rmse)"
   ]
  },
  {
   "cell_type": "markdown",
   "metadata": {},
   "source": [
    "#### Test Strategy\n",
    "\n",
    "Candidate models will be evaluated using walk-forward validation.\n",
    "\n",
    "This is because a rolling-forecast type model is required from the problem definition. This is where one-step forecasts are needed given all available data.\n",
    "\n",
    "The walk-forward validation will work as follows:\n",
    "\n",
    "The first 50% of the dataset will be held back to train the model.\n",
    "The remaining 50% of the dataset will be iterated and test the model.\n",
    "For each step in the test dataset:\n",
    "A model will be trained.\n",
    "A one-step prediction made and the prediction stored for later evaluation.\n",
    "The actual observation from the test dataset will be added to the training dataset for the next iteration.\n",
    "The predictions made during the iteration of the test dataset will be evaluated and an RMSE score reported.\n",
    "Given the small size of the data, we will allow a model to be re-trained given all available data prior to each prediction.\n",
    "\n",
    "We can write the code for the test harness using simple NumPy and Python code.\n",
    "\n",
    "Firstly, we can split the dataset into train and test sets directly. We’re careful to always convert a loaded dataset to float32 in case the loaded data still has some String or Integer data types."
   ]
  },
  {
   "cell_type": "code",
   "execution_count": 14,
   "metadata": {
    "collapsed": true
   },
   "outputs": [],
   "source": [
    "# prepare data\n",
    "X = series.values\n",
    "X = X.astype('float32')\n",
    "train_size = int(len(X) * 0.50)\n",
    "train, test = X[0:train_size], X[train_size:]"
   ]
  },
  {
   "cell_type": "code",
   "execution_count": 18,
   "metadata": {},
   "outputs": [
    {
     "name": "stdout",
     "output_type": "stream",
     "text": [
      ">Predicted=4753.000, Expected=4753\n",
      ">Predicted=3965.000, Expected=3965\n",
      ">Predicted=1723.000, Expected=1723\n",
      ">Predicted=5048.000, Expected=5048\n",
      ">Predicted=6922.000, Expected=6922\n",
      ">Predicted=9858.000, Expected=9858\n",
      ">Predicted=11331.000, Expected=11331\n",
      ">Predicted=4016.000, Expected=4016\n",
      ">Predicted=3957.000, Expected=3957\n",
      ">Predicted=4510.000, Expected=4510\n",
      ">Predicted=4276.000, Expected=4276\n",
      ">Predicted=4968.000, Expected=4968\n",
      ">Predicted=4677.000, Expected=4677\n",
      ">Predicted=3523.000, Expected=3523\n",
      ">Predicted=1821.000, Expected=1821\n",
      ">Predicted=5222.000, Expected=5222\n",
      ">Predicted=6872.000, Expected=6872\n",
      ">Predicted=10803.000, Expected=10803\n",
      ">Predicted=13916.000, Expected=13916\n",
      ">Predicted=2639.000, Expected=2639\n",
      ">Predicted=2899.000, Expected=2899\n",
      ">Predicted=3370.000, Expected=3370\n",
      ">Predicted=3740.000, Expected=3740\n",
      ">Predicted=2927.000, Expected=2927\n",
      ">Predicted=3986.000, Expected=3986\n",
      ">Predicted=4217.000, Expected=4217\n",
      ">Predicted=1738.000, Expected=1738\n",
      ">Predicted=5221.000, Expected=5221\n",
      ">Predicted=6424.000, Expected=6424\n",
      ">Predicted=9842.000, Expected=9842\n",
      ">Predicted=13076.000, Expected=13076\n",
      ">Predicted=3934.000, Expected=3934\n",
      ">Predicted=3162.000, Expected=3162\n",
      ">Predicted=4286.000, Expected=4286\n",
      ">Predicted=4676.000, Expected=4676\n",
      ">Predicted=5010.000, Expected=5010\n",
      ">Predicted=4874.000, Expected=4874\n",
      ">Predicted=4633.000, Expected=4633\n",
      ">Predicted=1659.000, Expected=1659\n",
      ">Predicted=5951.000, Expected=5951\n",
      ">Predicted=6981.000, Expected=6981\n",
      ">Predicted=9851.000, Expected=9851\n",
      ">Predicted=12670.000, Expected=12670\n",
      ">Predicted=4348.000, Expected=4348\n",
      ">Predicted=3564.000, Expected=3564\n",
      ">Predicted=4577.000, Expected=4577\n",
      ">Predicted=4788.000, Expected=4788\n",
      ">Predicted=4618.000, Expected=4618\n",
      ">Predicted=5312.000, Expected=5312\n",
      ">Predicted=4298.000, Expected=4298\n",
      ">Predicted=1413.000, Expected=1413\n",
      ">Predicted=5877.000, Expected=5877\n",
      ">Predicted=nan, Expected=nan\n"
     ]
    }
   ],
   "source": [
    "# walk-forward validation\n",
    "history = [x for x in train]\n",
    "predictions = list()\n",
    "for i in range(len(test)):\n",
    "    # predict\n",
    "    yhat = test[i]\n",
    "    predictions.append(yhat)\n",
    "    # observation\n",
    "    obs = test[i]\n",
    "    history.append(obs)\n",
    "    print('>Predicted=%.3f, Expected=%3.f' % (yhat, obs))"
   ]
  },
  {
   "cell_type": "code",
   "execution_count": 20,
   "metadata": {},
   "outputs": [
    {
     "name": "stdout",
     "output_type": "stream",
     "text": [
      ">Predicted=8314.000, Expected=10651\n",
      ">Predicted=10651.000, Expected=3633\n",
      ">Predicted=3633.000, Expected=4292\n",
      ">Predicted=4292.000, Expected=4154\n",
      ">Predicted=4154.000, Expected=4121\n",
      ">Predicted=4121.000, Expected=4647\n",
      ">Predicted=4647.000, Expected=4753\n",
      ">Predicted=4753.000, Expected=3965\n",
      ">Predicted=3965.000, Expected=1723\n",
      ">Predicted=1723.000, Expected=5048\n",
      ">Predicted=5048.000, Expected=6922\n",
      ">Predicted=6922.000, Expected=9858\n",
      ">Predicted=9858.000, Expected=11331\n",
      ">Predicted=11331.000, Expected=4016\n",
      ">Predicted=4016.000, Expected=3957\n",
      ">Predicted=3957.000, Expected=4510\n",
      ">Predicted=4510.000, Expected=4276\n",
      ">Predicted=4276.000, Expected=4968\n",
      ">Predicted=4968.000, Expected=4677\n",
      ">Predicted=4677.000, Expected=3523\n",
      ">Predicted=3523.000, Expected=1821\n",
      ">Predicted=1821.000, Expected=5222\n",
      ">Predicted=5222.000, Expected=6872\n",
      ">Predicted=6872.000, Expected=10803\n",
      ">Predicted=10803.000, Expected=13916\n",
      ">Predicted=13916.000, Expected=2639\n",
      ">Predicted=2639.000, Expected=2899\n",
      ">Predicted=2899.000, Expected=3370\n",
      ">Predicted=3370.000, Expected=3740\n",
      ">Predicted=3740.000, Expected=2927\n",
      ">Predicted=2927.000, Expected=3986\n",
      ">Predicted=3986.000, Expected=4217\n",
      ">Predicted=4217.000, Expected=1738\n",
      ">Predicted=1738.000, Expected=5221\n",
      ">Predicted=5221.000, Expected=6424\n",
      ">Predicted=6424.000, Expected=9842\n",
      ">Predicted=9842.000, Expected=13076\n",
      ">Predicted=13076.000, Expected=3934\n",
      ">Predicted=3934.000, Expected=3162\n",
      ">Predicted=3162.000, Expected=4286\n",
      ">Predicted=4286.000, Expected=4676\n",
      ">Predicted=4676.000, Expected=5010\n",
      ">Predicted=5010.000, Expected=4874\n",
      ">Predicted=4874.000, Expected=4633\n",
      ">Predicted=4633.000, Expected=1659\n",
      ">Predicted=1659.000, Expected=5951\n",
      ">Predicted=5951.000, Expected=6981\n",
      "RMSE: 3162.143\n"
     ]
    }
   ],
   "source": [
    "\n",
    "from pandas import Series\n",
    "from sklearn.metrics import mean_squared_error\n",
    "from math import sqrt\n",
    "# load data\n",
    "series = Series.from_csv('dataset.csv')\n",
    "# prepare data\n",
    "X = series.values\n",
    "X = X.astype('float32')\n",
    "train_size = int(len(X) * 0.50)\n",
    "train, test = X[0:train_size], X[train_size:]\n",
    "# walk-forward validation\n",
    "history = [x for x in train]\n",
    "predictions = list()\n",
    "for i in range(len(test)):\n",
    "    # predict\n",
    "    yhat = history[-1]\n",
    "    predictions.append(yhat)\n",
    "    # observation\n",
    "    obs = test[i]\n",
    "    history.append(obs)\n",
    "    print('>Predicted=%.3f, Expected=%3.f' % (yhat, obs))\n",
    "# report performance\n",
    "mse = mean_squared_error(test, predictions)\n",
    "rmse = sqrt(mse)\n",
    "print('RMSE: %.3f' % rmse)"
   ]
  },
  {
   "cell_type": "code",
   "execution_count": 21,
   "metadata": {},
   "outputs": [
    {
     "name": "stdout",
     "output_type": "stream",
     "text": [
      "count       94.000000\n",
      "mean      4666.010638\n",
      "std       2484.748262\n",
      "min       1573.000000\n",
      "25%       3049.000000\n",
      "50%       4031.500000\n",
      "75%       5170.250000\n",
      "max      13916.000000\n",
      "dtype: float64\n"
     ]
    }
   ],
   "source": [
    "from pandas import Series\n",
    "series = Series.from_csv('dataset.csv')\n",
    "print(series.describe())"
   ]
  },
  {
   "cell_type": "code",
   "execution_count": 22,
   "metadata": {},
   "outputs": [
    {
     "data": {
      "image/png": "[encoded data removed]",
      "text/plain": [
       "<matplotlib.figure.Figure at 0x10ecc1a50>"
      ]
     },
     "metadata": {},
     "output_type": "display_data"
    }
   ],
   "source": [
    "from pandas import Series\n",
    "from matplotlib import pyplot\n",
    "series = Series.from_csv('dataset.csv')\n",
    "series.plot()\n",
    "pyplot.show()"
   ]
  },
  {
   "cell_type": "code",
   "execution_count": 23,
   "metadata": {},
   "outputs": [
    {
     "data": {
      "image/png": "[encoded data removed]",
      "text/plain": [
       "<matplotlib.figure.Figure at 0x10455fc90>"
      ]
     },
     "metadata": {},
     "output_type": "display_data"
    }
   ],
   "source": [
    "from pandas import Series\n",
    "from pandas import DataFrame\n",
    "from pandas import TimeGrouper\n",
    "from matplotlib import pyplot\n",
    "series = Series.from_csv('dataset.csv')\n",
    "groups = series['1964':'1970'].groupby(TimeGrouper('A'))\n",
    "years = DataFrame()\n",
    "pyplot.figure()\n",
    "i = 1\n",
    "n_groups = len(groups)\n",
    "for name, group in groups:\n",
    "    pyplot.subplot((n_groups*100) + 10 + i)\n",
    "    i += 1\n",
    "    pyplot.plot(group)\n",
    "pyplot.show()"
   ]
  },
  {
   "cell_type": "code",
   "execution_count": 24,
   "metadata": {},
   "outputs": [
    {
     "data": {
      "image/png": "[encoded data removed]",
      "text/plain": [
       "<matplotlib.figure.Figure at 0x11224ca10>"
      ]
     },
     "metadata": {},
     "output_type": "display_data"
    }
   ],
   "source": [
    "from pandas import Series\n",
    "from matplotlib import pyplot\n",
    "series = Series.from_csv('dataset.csv')\n",
    "pyplot.figure(1)\n",
    "pyplot.subplot(211)\n",
    "series.hist()\n",
    "pyplot.subplot(212)\n",
    "series.plot(kind='kde')\n",
    "pyplot.show()"
   ]
  },
  {
   "cell_type": "code",
   "execution_count": 25,
   "metadata": {},
   "outputs": [
    {
     "data": {
      "image/png": "[encoded data removed]",
      "text/plain": [
       "<matplotlib.figure.Figure at 0x111d78290>"
      ]
     },
     "metadata": {},
     "output_type": "display_data"
    }
   ],
   "source": [
    "\n",
    "from pandas import Series\n",
    "from pandas import DataFrame\n",
    "from pandas import TimeGrouper\n",
    "from matplotlib import pyplot\n",
    "series = Series.from_csv('dataset.csv')\n",
    "groups = series['1964':'1970'].groupby(TimeGrouper('A'))\n",
    "years = DataFrame()\n",
    "for name, group in groups:\n",
    "    years[name.year] = group.values\n",
    "years.boxplot()\n",
    "pyplot.show()"
   ]
  },
  {
   "cell_type": "markdown",
   "metadata": {},
   "source": [
    "Some observations from reviewing the plots include:\n",
    "\n",
    "The median values for each year (red line) may show an increasing trend.\n",
    "The spread or middle 50% of the data (blue boxes) does appear reasonably stable.\n",
    "There are outliers each year (black crosses); these may be the tops or bottoms of the seasonal cycle.\n",
    "The last year, 1970, does look different from the trend in prior years"
   ]
  },
  {
   "cell_type": "code",
   "execution_count": 27,
   "metadata": {},
   "outputs": [
    {
     "name": "stdout",
     "output_type": "stream",
     "text": [
      "ADF Statistic: -7.180580\n",
      "p-value: 0.000000\n",
      "Critical Values:\n",
      "\t5%: -2.898\n",
      "\t1%: -3.514\n",
      "\t10%: -2.586\n"
     ]
    },
    {
     "data": {
      "image/png": "[encoded data removed]",
      "text/plain": [
       "<matplotlib.figure.Figure at 0x1133f5f10>"
      ]
     },
     "metadata": {},
     "output_type": "display_data"
    }
   ],
   "source": [
    "from pandas import Series\n",
    "from statsmodels.tsa.stattools import adfuller\n",
    "from matplotlib import pyplot\n",
    " \n",
    "# create a differenced series\n",
    "def difference(dataset, interval=1):\n",
    "    diff = list()\n",
    "    for i in range(interval, len(dataset)):\n",
    "        value = dataset[i] - dataset[i - interval]\n",
    "        diff.append(value)\n",
    "    return Series(diff)\n",
    " \n",
    "series = Series.from_csv('dataset.csv')\n",
    "X = series.values\n",
    "X = X.astype('float32')\n",
    "# difference data\n",
    "months_in_year = 12\n",
    "stationary = difference(X, months_in_year)\n",
    "stationary.index = series.index[months_in_year:]\n",
    "# check if stationary\n",
    "result = adfuller(stationary)\n",
    "print('ADF Statistic: %f' % result[0])\n",
    "print('p-value: %f' % result[1])\n",
    "print('Critical Values:')\n",
    "for key, value in result[4].items():\n",
    "    print('\\t%s: %.3f' % (key, value))\n",
    "# save\n",
    "stationary.to_csv('stationary.csv')\n",
    "# plot\n",
    "stationary.plot()\n",
    "pyplot.show()"
   ]
  },
  {
   "cell_type": "code",
   "execution_count": 28,
   "metadata": {},
   "outputs": [
    {
     "data": {
      "image/png": "[encoded data removed]",
      "text/plain": [
       "<matplotlib.figure.Figure at 0x10dc2eb10>"
      ]
     },
     "metadata": {},
     "output_type": "display_data"
    }
   ],
   "source": [
    "from pandas import Series\n",
    "from statsmodels.graphics.tsaplots import plot_acf\n",
    "from statsmodels.graphics.tsaplots import plot_pacf\n",
    "from matplotlib import pyplot\n",
    "series = Series.from_csv('stationary.csv')\n",
    "pyplot.figure()\n",
    "pyplot.subplot(211)\n",
    "plot_acf(series, ax=pyplot.gca())\n",
    "pyplot.subplot(212)\n",
    "plot_pacf(series, ax=pyplot.gca())\n",
    "pyplot.show()"
   ]
  },
  {
   "cell_type": "code",
   "execution_count": 29,
   "metadata": {},
   "outputs": [
    {
     "name": "stdout",
     "output_type": "stream",
     "text": [
      ">Predicted=9742.801, Expected=10651\n",
      ">Predicted=5986.916, Expected=3633\n",
      ">Predicted=3887.251, Expected=4292\n",
      ">Predicted=4038.144, Expected=4154\n",
      ">Predicted=4992.346, Expected=4121\n",
      ">Predicted=5156.384, Expected=4647\n",
      ">Predicted=5046.688, Expected=4753\n",
      ">Predicted=4143.837, Expected=3965\n",
      ">Predicted=2102.967, Expected=1723\n",
      ">Predicted=5228.338, Expected=5048\n",
      ">Predicted=5873.359, Expected=6922\n",
      ">Predicted=8571.356, Expected=9858\n",
      ">Predicted=11005.997, Expected=11331\n",
      ">Predicted=4087.471, Expected=4016\n",
      ">Predicted=4771.836, Expected=3957\n",
      ">Predicted=4676.100, Expected=4510\n",
      ">Predicted=4583.392, Expected=4276\n",
      ">Predicted=5117.361, Expected=4968\n",
      ">Predicted=5208.160, Expected=4677\n",
      ">Predicted=4436.435, Expected=3523\n",
      ">Predicted=2180.878, Expected=1821\n",
      ">Predicted=5471.242, Expected=5222\n",
      ">Predicted=7337.590, Expected=6872\n",
      ">Predicted=10268.320, Expected=10803\n",
      ">Predicted=11725.373, Expected=13916\n",
      ">Predicted=4519.449, Expected=2639\n",
      ">Predicted=4606.024, Expected=2899\n",
      ">Predicted=4938.788, Expected=3370\n",
      ">Predicted=4495.261, Expected=3740\n",
      ">Predicted=5109.010, Expected=2927\n",
      ">Predicted=4285.915, Expected=3986\n",
      ">Predicted=3155.257, Expected=4217\n",
      ">Predicted=1830.004, Expected=1738\n",
      ">Predicted=5135.173, Expected=5221\n",
      ">Predicted=6806.894, Expected=6424\n",
      ">Predicted=10644.038, Expected=9842\n",
      ">Predicted=13605.823, Expected=13076\n",
      ">Predicted=2265.381, Expected=3934\n",
      ">Predicted=2938.910, Expected=3162\n",
      ">Predicted=3341.705, Expected=4286\n",
      ">Predicted=3882.924, Expected=4676\n",
      ">Predicted=3157.017, Expected=5010\n",
      ">Predicted=4615.082, Expected=4874\n",
      ">Predicted=4624.998, Expected=4633\n",
      ">Predicted=2044.098, Expected=1659\n",
      ">Predicted=5404.430, Expected=5951\n",
      ">Predicted=6804.429, Expected=6981\n",
      "RMSE: 956.730\n"
     ]
    }
   ],
   "source": [
    "from pandas import Series\n",
    "from sklearn.metrics import mean_squared_error\n",
    "from statsmodels.tsa.arima_model import ARIMA\n",
    "from math import sqrt\n",
    " \n",
    "# create a differenced series\n",
    "def difference(dataset, interval=1):\n",
    "\tdiff = list()\n",
    "\tfor i in range(interval, len(dataset)):\n",
    "\t\tvalue = dataset[i] - dataset[i - interval]\n",
    "\t\tdiff.append(value)\n",
    "\treturn diff\n",
    " \n",
    "# invert differenced value\n",
    "def inverse_difference(history, yhat, interval=1):\n",
    "\treturn yhat + history[-interval]\n",
    " \n",
    "# load data\n",
    "series = Series.from_csv('dataset.csv')\n",
    "# prepare data\n",
    "X = series.values\n",
    "X = X.astype('float32')\n",
    "train_size = int(len(X) * 0.50)\n",
    "train, test = X[0:train_size], X[train_size:]\n",
    "# walk-forward validation\n",
    "history = [x for x in train]\n",
    "predictions = list()\n",
    "for i in range(len(test)):\n",
    "\t# difference data\n",
    "\tmonths_in_year = 12\n",
    "\tdiff = difference(history, months_in_year)\n",
    "\t# predict\n",
    "\tmodel = ARIMA(diff, order=(1,1,1))\n",
    "\tmodel_fit = model.fit(trend='nc', disp=0)\n",
    "\tyhat = model_fit.forecast()[0]\n",
    "\tyhat = inverse_difference(history, yhat, months_in_year)\n",
    "\tpredictions.append(yhat)\n",
    "\t# observation\n",
    "\tobs = test[i]\n",
    "\thistory.append(obs)\n",
    "\tprint('>Predicted=%.3f, Expected=%3.f' % (yhat, obs))\n",
    "# report performance\n",
    "mse = mean_squared_error(test, predictions)\n",
    "rmse = sqrt(mse)\n",
    "print('RMSE: %.3f' % rmse)"
   ]
  },
  {
   "cell_type": "code",
   "execution_count": 30,
   "metadata": {},
   "outputs": [
    {
     "name": "stdout",
     "output_type": "stream",
     "text": [
      "ARIMA(0, 0, 1) RMSE=933.954\n",
      "ARIMA(0, 0, 2) RMSE=960.443\n",
      "ARIMA(0, 0, 3) RMSE=943.894\n",
      "ARIMA(0, 0, 4) RMSE=957.668\n",
      "ARIMA(0, 0, 5) RMSE=987.148\n",
      "ARIMA(0, 0, 6) RMSE=1088.185\n",
      "ARIMA(0, 1, 1) RMSE=957.960\n",
      "ARIMA(0, 2, 1) RMSE=1145.504\n",
      "ARIMA(1, 0, 0) RMSE=941.572\n",
      "ARIMA(1, 1, 0) RMSE=1070.469\n",
      "ARIMA(1, 1, 1) RMSE=956.730\n",
      "ARIMA(1, 2, 0) RMSE=1555.966\n",
      "ARIMA(2, 0, 0) RMSE=955.363\n",
      "ARIMA(2, 1, 0) RMSE=1029.710\n",
      "ARIMA(2, 1, 1) RMSE=980.478\n",
      "ARIMA(2, 2, 0) RMSE=1346.554\n",
      "ARIMA(2, 2, 1) RMSE=1039.187\n",
      "ARIMA(3, 0, 0) RMSE=957.986\n",
      "ARIMA(3, 1, 0) RMSE=1027.364\n",
      "ARIMA(3, 1, 1) RMSE=979.389\n",
      "ARIMA(3, 2, 0) RMSE=1249.541\n",
      "ARIMA(4, 0, 0) RMSE=967.274\n",
      "ARIMA(4, 1, 0) RMSE=1045.708\n",
      "ARIMA(4, 1, 1) RMSE=1005.796\n",
      "ARIMA(4, 2, 0) RMSE=1229.438\n",
      "ARIMA(4, 2, 1) RMSE=1054.998\n",
      "ARIMA(5, 0, 0) RMSE=987.288\n",
      "ARIMA(5, 1, 0) RMSE=1042.012\n",
      "ARIMA(5, 1, 1) RMSE=1024.009\n",
      "ARIMA(5, 1, 2) RMSE=1002.324\n",
      "ARIMA(5, 2, 1) RMSE=1053.421\n",
      "ARIMA(6, 0, 0) RMSE=996.320\n",
      "ARIMA(6, 1, 0) RMSE=1017.993\n",
      "ARIMA(6, 1, 1) RMSE=1024.032\n",
      "Best ARIMA(0, 0, 1) RMSE=933.954\n"
     ]
    }
   ],
   "source": [
    "import warnings\n",
    "from pandas import Series\n",
    "from statsmodels.tsa.arima_model import ARIMA\n",
    "from sklearn.metrics import mean_squared_error\n",
    "from math import sqrt\n",
    "import numpy\n",
    " \n",
    "# create a differenced series\n",
    "def difference(dataset, interval=1):\n",
    "\tdiff = list()\n",
    "\tfor i in range(interval, len(dataset)):\n",
    "\t\tvalue = dataset[i] - dataset[i - interval]\n",
    "\t\tdiff.append(value)\n",
    "\treturn numpy.array(diff)\n",
    " \n",
    "# invert differenced value\n",
    "def inverse_difference(history, yhat, interval=1):\n",
    "\treturn yhat + history[-interval]\n",
    " \n",
    "# evaluate an ARIMA model for a given order (p,d,q) and return RMSE\n",
    "def evaluate_arima_model(X, arima_order):\n",
    "\t# prepare training dataset\n",
    "\tX = X.astype('float32')\n",
    "\ttrain_size = int(len(X) * 0.50)\n",
    "\ttrain, test = X[0:train_size], X[train_size:]\n",
    "\thistory = [x for x in train]\n",
    "\t# make predictions\n",
    "\tpredictions = list()\n",
    "\tfor t in range(len(test)):\n",
    "\t\t# difference data\n",
    "\t\tmonths_in_year = 12\n",
    "\t\tdiff = difference(history, months_in_year)\n",
    "\t\tmodel = ARIMA(diff, order=arima_order)\n",
    "\t\tmodel_fit = model.fit(trend='nc', disp=0)\n",
    "\t\tyhat = model_fit.forecast()[0]\n",
    "\t\tyhat = inverse_difference(history, yhat, months_in_year)\n",
    "\t\tpredictions.append(yhat)\n",
    "\t\thistory.append(test[t])\n",
    "\t# calculate out of sample error\n",
    "\tmse = mean_squared_error(test, predictions)\n",
    "\trmse = sqrt(mse)\n",
    "\treturn rmse\n",
    " \n",
    "# evaluate combinations of p, d and q values for an ARIMA model\n",
    "def evaluate_models(dataset, p_values, d_values, q_values):\n",
    "\tdataset = dataset.astype('float32')\n",
    "\tbest_score, best_cfg = float(\"inf\"), None\n",
    "\tfor p in p_values:\n",
    "\t\tfor d in d_values:\n",
    "\t\t\tfor q in q_values:\n",
    "\t\t\t\torder = (p,d,q)\n",
    "\t\t\t\ttry:\n",
    "\t\t\t\t\tmse = evaluate_arima_model(dataset, order)\n",
    "\t\t\t\t\tif mse < best_score:\n",
    "\t\t\t\t\t\tbest_score, best_cfg = mse, order\n",
    "\t\t\t\t\tprint('ARIMA%s RMSE=%.3f' % (order,mse))\n",
    "\t\t\t\texcept:\n",
    "\t\t\t\t\tcontinue\n",
    "\tprint('Best ARIMA%s RMSE=%.3f' % (best_cfg, best_score))\n",
    " \n",
    "# load dataset\n",
    "series = Series.from_csv('dataset.csv')\n",
    "# evaluate parameters\n",
    "p_values = range(0, 7)\n",
    "d_values = range(0, 3)\n",
    "q_values = range(0, 7)\n",
    "warnings.filterwarnings(\"ignore\")\n",
    "evaluate_models(series.values, p_values, d_values, q_values)"
   ]
  },
  {
   "cell_type": "code",
   "execution_count": 31,
   "metadata": {},
   "outputs": [
    {
     "name": "stdout",
     "output_type": "stream",
     "text": [
      "                 0\n",
      "count    47.000000\n",
      "mean    156.790586\n",
      "std     930.652822\n",
      "min   -2164.247449\n",
      "25%    -289.651667\n",
      "50%     191.759548\n",
      "75%     584.888982\n",
      "max    2367.304813\n"
     ]
    },
    {
     "data": {
      "image/png": "[encoded data removed]",
      "text/plain": [
       "<matplotlib.figure.Figure at 0x113b27f90>"
      ]
     },
     "metadata": {},
     "output_type": "display_data"
    }
   ],
   "source": [
    "from pandas import Series\n",
    "from pandas import DataFrame\n",
    "from statsmodels.tsa.arima_model import ARIMA\n",
    "from matplotlib import pyplot\n",
    " \n",
    "# create a differenced series\n",
    "def difference(dataset, interval=1):\n",
    "\tdiff = list()\n",
    "\tfor i in range(interval, len(dataset)):\n",
    "\t\tvalue = dataset[i] - dataset[i - interval]\n",
    "\t\tdiff.append(value)\n",
    "\treturn diff\n",
    " \n",
    "# invert differenced value\n",
    "def inverse_difference(history, yhat, interval=1):\n",
    "\treturn yhat + history[-interval]\n",
    " \n",
    "# load data\n",
    "series = Series.from_csv('dataset.csv')\n",
    "# prepare data\n",
    "X = series.values\n",
    "X = X.astype('float32')\n",
    "train_size = int(len(X) * 0.50)\n",
    "train, test = X[0:train_size], X[train_size:]\n",
    "# walk-forward validation\n",
    "history = [x for x in train]\n",
    "predictions = list()\n",
    "for i in range(len(test)):\n",
    "\t# difference data\n",
    "\tmonths_in_year = 12\n",
    "\tdiff = difference(history, months_in_year)\n",
    "\t# predict\n",
    "\tmodel = ARIMA(diff, order=(0,0,1))\n",
    "\tmodel_fit = model.fit(trend='nc', disp=0)\n",
    "\tyhat = model_fit.forecast()[0]\n",
    "\tyhat = inverse_difference(history, yhat, months_in_year)\n",
    "\tpredictions.append(yhat)\n",
    "\t# observation\n",
    "\tobs = test[i]\n",
    "\thistory.append(obs)\n",
    "# errors\n",
    "residuals = [test[i]-predictions[i] for i in range(len(test))]\n",
    "residuals = DataFrame(residuals)\n",
    "print(residuals.describe())\n",
    "# plot\n",
    "pyplot.figure()\n",
    "pyplot.subplot(211)\n",
    "residuals.hist(ax=pyplot.gca())\n",
    "pyplot.subplot(212)\n",
    "residuals.plot(kind='kde', ax=pyplot.gca())\n",
    "pyplot.show()"
   ]
  },
  {
   "cell_type": "code",
   "execution_count": 34,
   "metadata": {},
   "outputs": [
    {
     "name": "stdout",
     "output_type": "stream",
     "text": [
      "RMSE: 920.744\n",
      "                 0\n",
      "count    47.000000\n",
      "mean     -9.114142\n",
      "std     930.652822\n",
      "min   -2330.152177\n",
      "25%    -455.556395\n",
      "50%      25.854820\n",
      "75%     418.984254\n",
      "max    2201.400085\n"
     ]
    },
    {
     "data": {
      "image/png": "[encoded data removed]",
      "text/plain": [
       "<matplotlib.figure.Figure at 0x1127e0890>"
      ]
     },
     "metadata": {},
     "output_type": "display_data"
    }
   ],
   "source": [
    "from pandas import Series\n",
    "from pandas import DataFrame\n",
    "from statsmodels.tsa.arima_model import ARIMA\n",
    "from matplotlib import pyplot\n",
    "from sklearn.metrics import mean_squared_error\n",
    "from math import sqrt\n",
    " \n",
    "# create a differenced series\n",
    "def difference(dataset, interval=1):\n",
    "\tdiff = list()\n",
    "\tfor i in range(interval, len(dataset)):\n",
    "\t\tvalue = dataset[i] - dataset[i - interval]\n",
    "\t\tdiff.append(value)\n",
    "\treturn diff\n",
    " \n",
    "# invert differenced value\n",
    "def inverse_difference(history, yhat, interval=1):\n",
    "\treturn yhat + history[-interval]\n",
    " \n",
    "# load data\n",
    "series = Series.from_csv('dataset.csv')\n",
    "# prepare data\n",
    "X = series.values\n",
    "X = X.astype('float32')\n",
    "train_size = int(len(X) * 0.50)\n",
    "train, test = X[0:train_size], X[train_size:]\n",
    "# walk-forward validation\n",
    "history = [x for x in train]\n",
    "predictions = list()\n",
    "bias = 165.904728\n",
    "for i in range(len(test)):\n",
    "\t# difference data\n",
    "\tmonths_in_year = 12\n",
    "\tdiff = difference(history, months_in_year)\n",
    "\t# predict\n",
    "\tmodel = ARIMA(diff, order=(0,0,1))\n",
    "\tmodel_fit = model.fit(trend='nc', disp=0)\n",
    "\tyhat = model_fit.forecast()[0]\n",
    "\tyhat = bias + inverse_difference(history, yhat, months_in_year)\n",
    "\tpredictions.append(yhat)\n",
    "\t# observation\n",
    "\tobs = test[i]\n",
    "\thistory.append(obs)\n",
    "# report performance\n",
    "mse = mean_squared_error(test, predictions)\n",
    "rmse = sqrt(mse)\n",
    "print('RMSE: %.3f' % rmse)\n",
    "# errors\n",
    "residuals = [test[i]-predictions[i] for i in range(len(test))]\n",
    "residuals = DataFrame(residuals)\n",
    "print(residuals.describe())\n",
    "# plot\n",
    "pyplot.figure()\n",
    "pyplot.subplot(211)\n",
    "residuals.hist(ax=pyplot.gca())\n",
    "pyplot.subplot(212)\n",
    "residuals.plot(kind='kde', ax=pyplot.gca())\n",
    "pyplot.show()"
   ]
  },
  {
   "cell_type": "code",
   "execution_count": 33,
   "metadata": {},
   "outputs": [
    {
     "name": "stdout",
     "output_type": "stream",
     "text": [
      "                 0\n",
      "count    47.000000\n",
      "mean    156.790586\n",
      "std     930.652822\n",
      "min   -2164.247449\n",
      "25%    -289.651667\n",
      "50%     191.759548\n",
      "75%     584.888982\n",
      "max    2367.304813\n"
     ]
    },
    {
     "data": {
      "image/png": "[encoded data removed]",
      "text/plain": [
       "<matplotlib.figure.Figure at 0x1121ced90>"
      ]
     },
     "metadata": {},
     "output_type": "display_data"
    }
   ],
   "source": [
    "from pandas import Series\n",
    "from pandas import DataFrame\n",
    "from statsmodels.tsa.arima_model import ARIMA\n",
    "from matplotlib import pyplot\n",
    "from statsmodels.graphics.tsaplots import plot_acf\n",
    "from statsmodels.graphics.tsaplots import plot_pacf\n",
    " \n",
    "# create a differenced series\n",
    "def difference(dataset, interval=1):\n",
    "\tdiff = list()\n",
    "\tfor i in range(interval, len(dataset)):\n",
    "\t\tvalue = dataset[i] - dataset[i - interval]\n",
    "\t\tdiff.append(value)\n",
    "\treturn diff\n",
    " \n",
    "# invert differenced value\n",
    "def inverse_difference(history, yhat, interval=1):\n",
    "\treturn yhat + history[-interval]\n",
    " \n",
    "# load data\n",
    "series = Series.from_csv('dataset.csv')\n",
    "# prepare data\n",
    "X = series.values\n",
    "X = X.astype('float32')\n",
    "train_size = int(len(X) * 0.50)\n",
    "train, test = X[0:train_size], X[train_size:]\n",
    "# walk-forward validation\n",
    "history = [x for x in train]\n",
    "predictions = list()\n",
    "for i in range(len(test)):\n",
    "\t# difference data\n",
    "\tmonths_in_year = 12\n",
    "\tdiff = difference(history, months_in_year)\n",
    "\t# predict\n",
    "\tmodel = ARIMA(diff, order=(0,0,1))\n",
    "\tmodel_fit = model.fit(trend='nc', disp=0)\n",
    "\tyhat = model_fit.forecast()[0]\n",
    "\tyhat = inverse_difference(history, yhat, months_in_year)\n",
    "\tpredictions.append(yhat)\n",
    "\t# observation\n",
    "\tobs = test[i]\n",
    "\thistory.append(obs)\n",
    "# errors\n",
    "residuals = [test[i]-predictions[i] for i in range(len(test))]\n",
    "residuals = DataFrame(residuals)\n",
    "print(residuals.describe())\n",
    "# plot\n",
    "pyplot.figure()\n",
    "pyplot.subplot(211)\n",
    "plot_acf(residuals, ax=pyplot.gca())\n",
    "pyplot.subplot(212)\n",
    "plot_pacf(residuals, ax=pyplot.gca())\n",
    "pyplot.show()"
   ]
  },
  {
   "cell_type": "code",
   "execution_count": null,
   "metadata": {
    "collapsed": true
   },
   "outputs": [],
   "source": []
  }
 ],
 "metadata": {
  "kernelspec": {
   "display_name": "Python 3",
   "language": "python",
   "name": "python3"
  },
  "language_info": {
   "codemirror_mode": {
    "name": "ipython",
    "version": 3
   },
   "file_extension": ".py",
   "mimetype": "text/x-python",
   "name": "python",
   "nbconvert_exporter": "python",
   "pygments_lexer": "ipython3",
   "version": "3.6.1"
  }
 },
 "nbformat": 4,
 "nbformat_minor": 2
}
