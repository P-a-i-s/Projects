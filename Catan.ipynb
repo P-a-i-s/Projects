{
 "cells": [
  {
   "cell_type": "code",
   "execution_count": null,
   "metadata": {},
   "outputs": [
    {
     "name": "stdout",
     "output_type": "stream",
     "text": [
      "showing info https://raw.githubusercontent.com/nltk/nltk_data/gh-pages/index.xml\n"
     ]
    }
   ],
   "source": [
    "import nltk\n",
    "nltk.download()"
   ]
  },
  {
   "cell_type": "code",
   "execution_count": 1,
   "metadata": {
    "collapsed": true
   },
   "outputs": [],
   "source": [
    "import pandas as pd\n",
    "\n",
    "# https://github.com/DreadMuffin/Visualization/blob/master/simon/catanstats.csv"
   ]
  },
  {
   "cell_type": "code",
   "execution_count": 21,
   "metadata": {},
   "outputs": [],
   "source": [
    "data = pd.read_html(r'/Users/apple/Documents/pais-datascience/data/catanstats.csv',header=0,index_col=None)"
   ]
  },
  {
   "cell_type": "code",
   "execution_count": 22,
   "metadata": {},
   "outputs": [
    {
     "data": {
      "text/plain": [
       "list"
      ]
     },
     "execution_count": 22,
     "metadata": {},
     "output_type": "execute_result"
    }
   ],
   "source": [
    "type(data)"
   ]
  },
  {
   "cell_type": "code",
   "execution_count": 23,
   "metadata": {},
   "outputs": [
    {
     "data": {
      "text/plain": [
       "[     Unnamed: 0  gameNum  player  points   me  2  3  4   5   6      ...        \\\n",
       " 0           NaN        1       1       5  NaN  1  3  5   8   7      ...         \n",
       " 1           NaN        1       2       9  1.0  1  3  5   8   7      ...         \n",
       " 2           NaN        1       3      10  NaN  1  3  5   8   7      ...         \n",
       " 3           NaN        1       4       5  NaN  1  3  5   8   7      ...         \n",
       " 4           NaN        2       1      10  NaN  1  6  3   9  10      ...         \n",
       " 5           NaN        2       2       6  NaN  1  6  3   9  10      ...         \n",
       " 6           NaN        2       3       4  1.0  1  6  3   9  10      ...         \n",
       " 7           NaN        2       4       9  NaN  1  6  3   9  10      ...         \n",
       " 8           NaN        3       1       5  NaN  0  3  3  10  10      ...         \n",
       " 9           NaN        3       2      10  NaN  0  3  3  10  10      ...         \n",
       " 10          NaN        3       3       7  1.0  0  3  3  10  10      ...         \n",
       " 11          NaN        3       4       7  NaN  0  3  3  10  10      ...         \n",
       " 12          NaN        4       1       7  NaN  1  6  5  12  14      ...         \n",
       " 13          NaN        4       2      10  1.0  1  6  5  12  14      ...         \n",
       " 14          NaN        4       3       9  NaN  1  6  5  12  14      ...         \n",
       " 15          NaN        4       4       9  NaN  1  6  5  12  14      ...         \n",
       " 16          NaN        5       1       8  1.0  1  3  7   9  12      ...         \n",
       " 17          NaN        5       2      10  NaN  1  3  7   9  12      ...         \n",
       " 18          NaN        5       3       3  NaN  1  3  7   9  12      ...         \n",
       " 19          NaN        5       4       7  NaN  1  3  7   9  12      ...         \n",
       " 20          NaN        6       1       6  1.0  0  4  6   6   8      ...         \n",
       " 21          NaN        6       2       6  NaN  0  4  6   6   8      ...         \n",
       " 22          NaN        6       3       6  NaN  0  4  6   6   8      ...         \n",
       " 23          NaN        6       4      10  NaN  0  4  6   6   8      ...         \n",
       " 24          NaN        7       1      10  1.0  2  4  5   5   5      ...         \n",
       " 25          NaN        7       2       6  NaN  2  4  5   5   5      ...         \n",
       " 26          NaN        7       3       4  NaN  2  4  5   5   5      ...         \n",
       " 27          NaN        7       4       4  NaN  2  4  5   5   5      ...         \n",
       " 28          NaN        8       1       8  NaN  3  0  4   7   6      ...         \n",
       " 29          NaN        8       2      11  NaN  3  0  4   7   6      ...         \n",
       " ..          ...      ...     ...     ...  ... .. .. ..  ..  ..      ...         \n",
       " 170         NaN       43       3       8  NaN  1  0  4   8  11      ...         \n",
       " 171         NaN       43       4       2  NaN  1  0  4   8  11      ...         \n",
       " 172         NaN       44       1       8  1.0  4  5  6   5  12      ...         \n",
       " 173         NaN       44       2       5  NaN  4  5  6   5  12      ...         \n",
       " 174         NaN       44       3      10  NaN  4  5  6   5  12      ...         \n",
       " 175         NaN       44       4       9  NaN  4  5  6   5  12      ...         \n",
       " 176         NaN       45       1       7  NaN  0  3  3   7   6      ...         \n",
       " 177         NaN       45       2      10  NaN  0  3  3   7   6      ...         \n",
       " 178         NaN       45       3       6  1.0  0  3  3   7   6      ...         \n",
       " 179         NaN       45       4       6  NaN  0  3  3   7   6      ...         \n",
       " 180         NaN       46       1       5  1.0  3  6  5   9  13      ...         \n",
       " 181         NaN       46       2       6  NaN  3  6  5   9  13      ...         \n",
       " 182         NaN       46       3      10  NaN  3  6  5   9  13      ...         \n",
       " 183         NaN       46       4       8  NaN  3  6  5   9  13      ...         \n",
       " 184         NaN       47       1       5  NaN  1  4  5   6  11      ...         \n",
       " 185         NaN       47       2      12  1.0  1  4  5   6  11      ...         \n",
       " 186         NaN       47       3       6  NaN  1  4  5   6  11      ...         \n",
       " 187         NaN       47       4       6  NaN  1  4  5   6  11      ...         \n",
       " 188         NaN       48       1      11  1.0  0  6  7   7  10      ...         \n",
       " 189         NaN       48       2       9  NaN  0  6  7   7  10      ...         \n",
       " 190         NaN       48       3       6  NaN  0  6  7   7  10      ...         \n",
       " 191         NaN       48       4       7  NaN  0  6  7   7  10      ...         \n",
       " 192         NaN       49       1       4  NaN  0  5  3   6  13      ...         \n",
       " 193         NaN       49       2      10  NaN  0  5  3   6  13      ...         \n",
       " 194         NaN       49       3       4  1.0  0  5  3   6  13      ...         \n",
       " 195         NaN       49       4       5  NaN  0  5  3   6  13      ...         \n",
       " 196         NaN       50       1       5  NaN  1  7  4   5   7      ...         \n",
       " 197         NaN       50       2      10  1.0  1  7  4   5   7      ...         \n",
       " 198         NaN       50       3       4  NaN  1  7  4   5   7      ...         \n",
       " 199         NaN       50       4       8  NaN  1  7  4   5   7      ...         \n",
       " \n",
       "      Unnamed: 27  production  tradeGain  robberCardsGain  totalGain  \\\n",
       " 0              O          38          5                2         45   \n",
       " 1              O          48          8                6         62   \n",
       " 2              C          44         14                9         67   \n",
       " 3              S          42         12                0         54   \n",
       " 4             2L          60         15               16         91   \n",
       " 5              W          57         12                1         70   \n",
       " 6              L          44         10                8         62   \n",
       " 7              S          61         16               11         88   \n",
       " 8              S          44          5                5         54   \n",
       " 9              S          41          4                9         54   \n",
       " 10            3G          47          6                5         58   \n",
       " 11             L          53          2                2         57   \n",
       " 12            3G          64         15               12         91   \n",
       " 13             C          97         21               15        133   \n",
       " 14             W          61         18                7         86   \n",
       " 15             O          75         11                8         94   \n",
       " 16            2S          70         17                5         92   \n",
       " 17             L          56          4               16         76   \n",
       " 18             D          30          2                7         39   \n",
       " 19             C          48          4                5         57   \n",
       " 20             C          48          6                3         57   \n",
       " 21            3G          35          7                2         44   \n",
       " 22             W          35          2                1         38   \n",
       " 23             O          56          7                9         72   \n",
       " 24             W          43          9               13         65   \n",
       " 25             W          31          5               11         47   \n",
       " 26             W          31          1                4         36   \n",
       " 27             S          30          5                5         40   \n",
       " 28             S          48          6                1         55   \n",
       " 29             S          61         10                9         80   \n",
       " ..           ...         ...        ...              ...        ...   \n",
       " 170            O          71         11                5         87   \n",
       " 171            C          31          7                9         47   \n",
       " 172            O          86         17               12        115   \n",
       " 173            S          47          9               16         72   \n",
       " 174            W          77         19                7        103   \n",
       " 175            S          56         13                4         73   \n",
       " 176            L          46         10                2         58   \n",
       " 177            L          55          7               11         73   \n",
       " 178            W          26          4                5         35   \n",
       " 179            S          47          2                4         53   \n",
       " 180           3G          36          6                6         48   \n",
       " 181            D          53          8                4         65   \n",
       " 182           2S          46          9               10         65   \n",
       " 183            C          70          7                6         83   \n",
       " 184           2O          32         12                2         46   \n",
       " 185            S          61          7               11         79   \n",
       " 186            O          43          6                4         53   \n",
       " 187            S          37          7                0         44   \n",
       " 188            C          72          9               13         94   \n",
       " 189            L          67         10                1         78   \n",
       " 190            L          43          7               12         62   \n",
       " 191            L          31          3                0         34   \n",
       " 192            S          47          6                5         58   \n",
       " 193            S          77         15                5         97   \n",
       " 194           2W          29          9                8         46   \n",
       " 195            S          41          8               11         60   \n",
       " 196            C          41          6                7         54   \n",
       " 197            C          64          5                9         78   \n",
       " 198            S          44          7                4         55   \n",
       " 199            C          57          3                5         65   \n",
       " \n",
       "      tradeLoss  robberCardsLoss tribute  totalLoss totalAvailable  \n",
       " 0           10                2       4         16             29  \n",
       " 1           11                1       8         20             42  \n",
       " 2           24                4       0         28             39  \n",
       " 3           24                6       0         30             24  \n",
       " 4           28               10       0         38             53  \n",
       " 5           26                6       8         40             30  \n",
       " 6           18                6       8         32             30  \n",
       " 7           25                6       4         35             53  \n",
       " 8           11                1       9         21             33  \n",
       " 9            8                3       0         11             43  \n",
       " 10          10                7       0         17             41  \n",
       " 11           4                4       8         16             41  \n",
       " 12          23                5      12         40             51  \n",
       " 13          47               15      10         72             61  \n",
       " 14          33                5       0         38             48  \n",
       " 15          37               19       0         56             38  \n",
       " 16          33               11       0         44             48  \n",
       " 17          14                7       4         25             51  \n",
       " 18           5                4       4         13             26  \n",
       " 19           6               10       9         25             32  \n",
       " 20          13                1       0         14             43  \n",
       " 21          13                3       0         16             28  \n",
       " 22           6                1       4         11             27  \n",
       " 23          18                2       4         24             48  \n",
       " 24          19                6       0         25             40  \n",
       " 25          14                1       0         15             32  \n",
       " 26           4               11       0         15             21  \n",
       " 27          10                9       0         19             21  \n",
       " 28          10                9       0         19             36  \n",
       " 29          16                2       4         22             58  \n",
       " ..         ...              ...     ...        ...            ...  \n",
       " 170         26                8       8         42             45  \n",
       " 171         10                0      14         24             23  \n",
       " 172         43               15       4         62             53  \n",
       " 173         16                8       8         32             40  \n",
       " 174         47                8       4         59             44  \n",
       " 175         29                0       4         33             40  \n",
       " 176         25                4       0         29             29  \n",
       " 177         15                8       0         23             50  \n",
       " 178          4                0       4          8             27  \n",
       " 179          5                4       6         15             38  \n",
       " 180         11                6       0         17             31  \n",
       " 181         18                7       4         29             36  \n",
       " 182         14                4       0         18             47  \n",
       " 183         14                3      33         50             33  \n",
       " 184         23                1       0         24             22  \n",
       " 185         19                4       0         23             56  \n",
       " 186         14                2       5         21             32  \n",
       " 187         16                2       4         22             22  \n",
       " 188         23                8       4         35             59  \n",
       " 189         28                9       0         37             41  \n",
       " 190          7                2       0          9             53  \n",
       " 191          6                1       0          7             27  \n",
       " 192         17                5       8         30             28  \n",
       " 193         33                9       8         50             47  \n",
       " 194         10                5       8         23             23  \n",
       " 195         22                4       0         26             34  \n",
       " 196         14                6       4         24             30  \n",
       " 197         15                6      10         31             47  \n",
       " 198         22                1       8         31             24  \n",
       " 199          2               12       8         22             43  \n",
       " \n",
       " [200 rows x 37 columns]]"
      ]
     },
     "execution_count": 23,
     "metadata": {},
     "output_type": "execute_result"
    }
   ],
   "source": [
    "data"
   ]
  },
  {
   "cell_type": "code",
   "execution_count": null,
   "metadata": {
    "collapsed": true
   },
   "outputs": [],
   "source": []
  }
 ],
 "metadata": {
  "kernelspec": {
   "display_name": "Python 3",
   "language": "python",
   "name": "python3"
  },
  "language_info": {
   "codemirror_mode": {
    "name": "ipython",
    "version": 3
   },
   "file_extension": ".py",
   "mimetype": "text/x-python",
   "name": "python",
   "nbconvert_exporter": "python",
   "pygments_lexer": "ipython3",
   "version": "3.6.1"
  }
 },
 "nbformat": 4,
 "nbformat_minor": 2
}
