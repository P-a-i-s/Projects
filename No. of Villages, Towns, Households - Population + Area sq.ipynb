{
 "cells": [
  {
   "cell_type": "code",
   "execution_count": 44,
   "metadata": {
    "collapsed": false
   },
   "outputs": [],
   "source": [
    "import pandas as pd\n",
    "import matplotlib.pyplot as plt\n",
    "%matplotlib inline\n",
    "import numpy as np\n",
    "col_names = ['State Code','District Code','Sub District Code','India/ State/ Union Territory/ District/ Sub-district','Name','Total-Rural-Urban','#Villages Inhabitated','#Villages Uninhabitated','Number of Towns','Number of households','Population - Persons (Total)','Population - Male','Population - Female', 'Area in sq km','Population per sq km']\n",
    "df = pd.read_excel('/Users/nish/pais-datascience/data/density/A1 Villages_Towns_Households.xlsx',header=None,names=col_names)"
   ]
  },
  {
   "cell_type": "code",
   "execution_count": 45,
   "metadata": {
    "collapsed": false
   },
   "outputs": [
    {
     "data": {
      "text/html": [
       "<div>\n",
       "<table border=\"1\" class=\"dataframe\">\n",
       "  <thead>\n",
       "    <tr style=\"text-align: right;\">\n",
       "      <th></th>\n",
       "      <th>India/ State/ Union Territory/ District/ Sub-district</th>\n",
       "      <th>Name</th>\n",
       "      <th>Total-Rural-Urban</th>\n",
       "      <th>#Villages Inhabitated</th>\n",
       "      <th>#Villages Uninhabitated</th>\n",
       "      <th>Number of Towns</th>\n",
       "      <th>Number of households</th>\n",
       "      <th>Population - Persons (Total)</th>\n",
       "      <th>Population - Male</th>\n",
       "      <th>Population - Female</th>\n",
       "      <th>Area in sq km</th>\n",
       "      <th>Population per sq km</th>\n",
       "    </tr>\n",
       "  </thead>\n",
       "  <tbody>\n",
       "    <tr>\n",
       "      <th>19991</th>\n",
       "      <td>SUB-DISTRICT</td>\n",
       "      <td>Port Blair</td>\n",
       "      <td>Rural</td>\n",
       "      <td>30</td>\n",
       "      <td>3</td>\n",
       "      <td>0</td>\n",
       "      <td>8083</td>\n",
       "      <td>32969</td>\n",
       "      <td>18322</td>\n",
       "      <td>14647</td>\n",
       "      <td>520.012</td>\n",
       "      <td>63</td>\n",
       "    </tr>\n",
       "    <tr>\n",
       "      <th>19992</th>\n",
       "      <td>SUB-DISTRICT</td>\n",
       "      <td>Port Blair</td>\n",
       "      <td>Urban</td>\n",
       "      <td>0</td>\n",
       "      <td>0</td>\n",
       "      <td>3</td>\n",
       "      <td>33390</td>\n",
       "      <td>132785</td>\n",
       "      <td>71089</td>\n",
       "      <td>61696</td>\n",
       "      <td>28.4</td>\n",
       "      <td>4676</td>\n",
       "    </tr>\n",
       "    <tr>\n",
       "      <th>19993</th>\n",
       "      <td>SUB-DISTRICT</td>\n",
       "      <td>Little Andaman</td>\n",
       "      <td>Total</td>\n",
       "      <td>16</td>\n",
       "      <td>3</td>\n",
       "      <td>0</td>\n",
       "      <td>5093</td>\n",
       "      <td>18823</td>\n",
       "      <td>9964</td>\n",
       "      <td>8859</td>\n",
       "      <td>780.153</td>\n",
       "      <td>24</td>\n",
       "    </tr>\n",
       "    <tr>\n",
       "      <th>19994</th>\n",
       "      <td>SUB-DISTRICT</td>\n",
       "      <td>Little Andaman</td>\n",
       "      <td>Rural</td>\n",
       "      <td>16</td>\n",
       "      <td>3</td>\n",
       "      <td>0</td>\n",
       "      <td>5093</td>\n",
       "      <td>18823</td>\n",
       "      <td>9964</td>\n",
       "      <td>8859</td>\n",
       "      <td>780.153</td>\n",
       "      <td>24</td>\n",
       "    </tr>\n",
       "    <tr>\n",
       "      <th>19995</th>\n",
       "      <td>SUB-DISTRICT</td>\n",
       "      <td>Little Andaman</td>\n",
       "      <td>Urban</td>\n",
       "      <td>0</td>\n",
       "      <td>0</td>\n",
       "      <td>0</td>\n",
       "      <td>0</td>\n",
       "      <td>0</td>\n",
       "      <td>0</td>\n",
       "      <td>0</td>\n",
       "      <td>0</td>\n",
       "      <td>0</td>\n",
       "    </tr>\n",
       "  </tbody>\n",
       "</table>\n",
       "</div>"
      ],
      "text/plain": [
       "      India/ State/ Union Territory/ District/ Sub-district            Name  \\\n",
       "19991                                       SUB-DISTRICT         Port Blair   \n",
       "19992                                       SUB-DISTRICT         Port Blair   \n",
       "19993                                       SUB-DISTRICT     Little Andaman   \n",
       "19994                                       SUB-DISTRICT     Little Andaman   \n",
       "19995                                       SUB-DISTRICT     Little Andaman   \n",
       "\n",
       "      Total-Rural-Urban #Villages Inhabitated #Villages Uninhabitated  \\\n",
       "19991             Rural                    30                       3   \n",
       "19992             Urban                     0                       0   \n",
       "19993             Total                    16                       3   \n",
       "19994             Rural                    16                       3   \n",
       "19995             Urban                     0                       0   \n",
       "\n",
       "      Number of Towns Number of households Population - Persons (Total)  \\\n",
       "19991               0                 8083                        32969   \n",
       "19992               3                33390                       132785   \n",
       "19993               0                 5093                        18823   \n",
       "19994               0                 5093                        18823   \n",
       "19995               0                    0                            0   \n",
       "\n",
       "      Population - Male Population - Female Area in sq km Population per sq km  \n",
       "19991             18322               14647       520.012                   63  \n",
       "19992             71089               61696          28.4                 4676  \n",
       "19993              9964                8859       780.153                   24  \n",
       "19994              9964                8859       780.153                   24  \n",
       "19995                 0                   0             0                    0  "
      ]
     },
     "execution_count": 45,
     "metadata": {},
     "output_type": "execute_result"
    }
   ],
   "source": [
    "df1 = df.iloc[4:19996,3:]\n",
    "df1.tail()"
   ]
  },
  {
   "cell_type": "code",
   "execution_count": 46,
   "metadata": {
    "collapsed": false
   },
   "outputs": [
    {
     "data": {
      "text/plain": [
       "<matplotlib.axes._subplots.AxesSubplot at 0x119d51e10>"
      ]
     },
     "execution_count": 46,
     "metadata": {},
     "output_type": "execute_result"
    },
    {
     "data": {
      "image/png": "[encoded data removed]",
      "text/plain": [
       "<matplotlib.figure.Figure at 0x11ea34b50>"
      ]
     },
     "metadata": {},
     "output_type": "display_data"
    }
   ],
   "source": [
    "df1.plot()"
   ]
  },
  {
   "cell_type": "code",
   "execution_count": 43,
   "metadata": {
    "collapsed": true
   },
   "outputs": [],
   "source": [
    "df1.to_csv('density.csv')"
   ]
  },
  {
   "cell_type": "code",
   "execution_count": null,
   "metadata": {
    "collapsed": true
   },
   "outputs": [],
   "source": []
  }
 ],
 "metadata": {
  "kernelspec": {
   "display_name": "Python 2",
   "language": "python",
   "name": "python2"
  },
  "language_info": {
   "codemirror_mode": {
    "name": "ipython",
    "version": 2
   },
   "file_extension": ".py",
   "mimetype": "text/x-python",
   "name": "python",
   "nbconvert_exporter": "python",
   "pygments_lexer": "ipython2",
   "version": "2.7.13"
  }
 },
 "nbformat": 4,
 "nbformat_minor": 2
}
